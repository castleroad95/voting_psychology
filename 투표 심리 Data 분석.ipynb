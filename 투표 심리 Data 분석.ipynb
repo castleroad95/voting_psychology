{
 "cells": [
  {
   "cell_type": "markdown",
   "metadata": {},
   "source": [
    "## TRAIN Data 분석하기"
   ]
  },
  {
   "cell_type": "code",
   "execution_count": 2,
   "metadata": {},
   "outputs": [
    {
     "data": {
      "text/html": [
       "<div>\n",
       "<style scoped>\n",
       "    .dataframe tbody tr th:only-of-type {\n",
       "        vertical-align: middle;\n",
       "    }\n",
       "\n",
       "    .dataframe tbody tr th {\n",
       "        vertical-align: top;\n",
       "    }\n",
       "\n",
       "    .dataframe thead th {\n",
       "        text-align: right;\n",
       "    }\n",
       "</style>\n",
       "<table border=\"1\" class=\"dataframe\">\n",
       "  <thead>\n",
       "    <tr style=\"text-align: right;\">\n",
       "      <th></th>\n",
       "      <th>index</th>\n",
       "      <th>QaA</th>\n",
       "      <th>QaE</th>\n",
       "      <th>QbA</th>\n",
       "      <th>QbE</th>\n",
       "      <th>QcA</th>\n",
       "      <th>QcE</th>\n",
       "      <th>QdA</th>\n",
       "      <th>QdE</th>\n",
       "      <th>QeA</th>\n",
       "      <th>...</th>\n",
       "      <th>wr_04</th>\n",
       "      <th>wr_05</th>\n",
       "      <th>wr_06</th>\n",
       "      <th>wr_07</th>\n",
       "      <th>wr_08</th>\n",
       "      <th>wr_09</th>\n",
       "      <th>wr_10</th>\n",
       "      <th>wr_11</th>\n",
       "      <th>wr_12</th>\n",
       "      <th>wr_13</th>\n",
       "    </tr>\n",
       "  </thead>\n",
       "  <tbody>\n",
       "    <tr>\n",
       "      <th>0</th>\n",
       "      <td>0</td>\n",
       "      <td>3.0</td>\n",
       "      <td>363</td>\n",
       "      <td>4.0</td>\n",
       "      <td>1370</td>\n",
       "      <td>5.0</td>\n",
       "      <td>997</td>\n",
       "      <td>1.0</td>\n",
       "      <td>1024</td>\n",
       "      <td>2.0</td>\n",
       "      <td>...</td>\n",
       "      <td>0</td>\n",
       "      <td>1</td>\n",
       "      <td>0</td>\n",
       "      <td>1</td>\n",
       "      <td>1</td>\n",
       "      <td>0</td>\n",
       "      <td>1</td>\n",
       "      <td>0</td>\n",
       "      <td>1</td>\n",
       "      <td>1</td>\n",
       "    </tr>\n",
       "    <tr>\n",
       "      <th>1</th>\n",
       "      <td>1</td>\n",
       "      <td>5.0</td>\n",
       "      <td>647</td>\n",
       "      <td>5.0</td>\n",
       "      <td>1313</td>\n",
       "      <td>3.0</td>\n",
       "      <td>3387</td>\n",
       "      <td>5.0</td>\n",
       "      <td>2969</td>\n",
       "      <td>1.0</td>\n",
       "      <td>...</td>\n",
       "      <td>1</td>\n",
       "      <td>1</td>\n",
       "      <td>0</td>\n",
       "      <td>1</td>\n",
       "      <td>1</td>\n",
       "      <td>0</td>\n",
       "      <td>1</td>\n",
       "      <td>0</td>\n",
       "      <td>1</td>\n",
       "      <td>1</td>\n",
       "    </tr>\n",
       "    <tr>\n",
       "      <th>2</th>\n",
       "      <td>2</td>\n",
       "      <td>4.0</td>\n",
       "      <td>1623</td>\n",
       "      <td>1.0</td>\n",
       "      <td>1480</td>\n",
       "      <td>1.0</td>\n",
       "      <td>1021</td>\n",
       "      <td>4.0</td>\n",
       "      <td>3374</td>\n",
       "      <td>5.0</td>\n",
       "      <td>...</td>\n",
       "      <td>1</td>\n",
       "      <td>1</td>\n",
       "      <td>0</td>\n",
       "      <td>1</td>\n",
       "      <td>1</td>\n",
       "      <td>1</td>\n",
       "      <td>1</td>\n",
       "      <td>0</td>\n",
       "      <td>1</td>\n",
       "      <td>1</td>\n",
       "    </tr>\n",
       "    <tr>\n",
       "      <th>3</th>\n",
       "      <td>3</td>\n",
       "      <td>3.0</td>\n",
       "      <td>504</td>\n",
       "      <td>3.0</td>\n",
       "      <td>2311</td>\n",
       "      <td>4.0</td>\n",
       "      <td>992</td>\n",
       "      <td>3.0</td>\n",
       "      <td>3245</td>\n",
       "      <td>1.0</td>\n",
       "      <td>...</td>\n",
       "      <td>0</td>\n",
       "      <td>0</td>\n",
       "      <td>0</td>\n",
       "      <td>0</td>\n",
       "      <td>1</td>\n",
       "      <td>0</td>\n",
       "      <td>1</td>\n",
       "      <td>0</td>\n",
       "      <td>1</td>\n",
       "      <td>1</td>\n",
       "    </tr>\n",
       "    <tr>\n",
       "      <th>4</th>\n",
       "      <td>4</td>\n",
       "      <td>1.0</td>\n",
       "      <td>927</td>\n",
       "      <td>1.0</td>\n",
       "      <td>707</td>\n",
       "      <td>5.0</td>\n",
       "      <td>556</td>\n",
       "      <td>2.0</td>\n",
       "      <td>1062</td>\n",
       "      <td>1.0</td>\n",
       "      <td>...</td>\n",
       "      <td>1</td>\n",
       "      <td>1</td>\n",
       "      <td>1</td>\n",
       "      <td>1</td>\n",
       "      <td>1</td>\n",
       "      <td>0</td>\n",
       "      <td>1</td>\n",
       "      <td>1</td>\n",
       "      <td>1</td>\n",
       "      <td>1</td>\n",
       "    </tr>\n",
       "  </tbody>\n",
       "</table>\n",
       "<p>5 rows × 78 columns</p>\n",
       "</div>"
      ],
      "text/plain": [
       "   index  QaA   QaE  QbA   QbE  QcA   QcE  QdA   QdE  QeA  ...  wr_04  wr_05  \\\n",
       "0      0  3.0   363  4.0  1370  5.0   997  1.0  1024  2.0  ...      0      1   \n",
       "1      1  5.0   647  5.0  1313  3.0  3387  5.0  2969  1.0  ...      1      1   \n",
       "2      2  4.0  1623  1.0  1480  1.0  1021  4.0  3374  5.0  ...      1      1   \n",
       "3      3  3.0   504  3.0  2311  4.0   992  3.0  3245  1.0  ...      0      0   \n",
       "4      4  1.0   927  1.0   707  5.0   556  2.0  1062  1.0  ...      1      1   \n",
       "\n",
       "   wr_06  wr_07  wr_08  wr_09  wr_10  wr_11  wr_12  wr_13  \n",
       "0      0      1      1      0      1      0      1      1  \n",
       "1      0      1      1      0      1      0      1      1  \n",
       "2      0      1      1      1      1      0      1      1  \n",
       "3      0      0      1      0      1      0      1      1  \n",
       "4      1      1      1      0      1      1      1      1  \n",
       "\n",
       "[5 rows x 78 columns]"
      ]
     },
     "execution_count": 2,
     "metadata": {},
     "output_type": "execute_result"
    }
   ],
   "source": [
    "import pandas as pd\n",
    "\n",
    "train_csv = pd.read_csv('C:/Users/castl/Desktop/2020_job_academy/project/voting_psychology/input/train.csv')\n",
    "train_csv.head()"
   ]
  },
  {
   "cell_type": "code",
   "execution_count": 3,
   "metadata": {},
   "outputs": [
    {
     "name": "stdout",
     "output_type": "stream",
     "text": [
      "<class 'pandas.core.frame.DataFrame'>\n",
      "RangeIndex: 45532 entries, 0 to 45531\n",
      "Data columns (total 78 columns):\n",
      " #   Column      Non-Null Count  Dtype  \n",
      "---  ------      --------------  -----  \n",
      " 0   index       45532 non-null  int64  \n",
      " 1   QaA         45532 non-null  float64\n",
      " 2   QaE         45532 non-null  int64  \n",
      " 3   QbA         45532 non-null  float64\n",
      " 4   QbE         45532 non-null  int64  \n",
      " 5   QcA         45532 non-null  float64\n",
      " 6   QcE         45532 non-null  int64  \n",
      " 7   QdA         45532 non-null  float64\n",
      " 8   QdE         45532 non-null  int64  \n",
      " 9   QeA         45532 non-null  float64\n",
      " 10  QeE         45532 non-null  int64  \n",
      " 11  QfA         45532 non-null  float64\n",
      " 12  QfE         45532 non-null  int64  \n",
      " 13  QgA         45532 non-null  float64\n",
      " 14  QgE         45532 non-null  int64  \n",
      " 15  QhA         45532 non-null  float64\n",
      " 16  QhE         45532 non-null  int64  \n",
      " 17  QiA         45532 non-null  float64\n",
      " 18  QiE         45532 non-null  int64  \n",
      " 19  QjA         45532 non-null  float64\n",
      " 20  QjE         45532 non-null  int64  \n",
      " 21  QkA         45532 non-null  float64\n",
      " 22  QkE         45532 non-null  int64  \n",
      " 23  QlA         45532 non-null  float64\n",
      " 24  QlE         45532 non-null  int64  \n",
      " 25  QmA         45532 non-null  float64\n",
      " 26  QmE         45532 non-null  int64  \n",
      " 27  QnA         45532 non-null  float64\n",
      " 28  QnE         45532 non-null  int64  \n",
      " 29  QoA         45532 non-null  float64\n",
      " 30  QoE         45532 non-null  int64  \n",
      " 31  QpA         45532 non-null  float64\n",
      " 32  QpE         45532 non-null  int64  \n",
      " 33  QqA         45532 non-null  float64\n",
      " 34  QqE         45532 non-null  int64  \n",
      " 35  QrA         45532 non-null  float64\n",
      " 36  QrE         45532 non-null  int64  \n",
      " 37  QsA         45532 non-null  float64\n",
      " 38  QsE         45532 non-null  int64  \n",
      " 39  QtA         45532 non-null  float64\n",
      " 40  QtE         45532 non-null  int64  \n",
      " 41  age_group   45532 non-null  object \n",
      " 42  education   45532 non-null  int64  \n",
      " 43  engnat      45532 non-null  int64  \n",
      " 44  familysize  45532 non-null  int64  \n",
      " 45  gender      45532 non-null  object \n",
      " 46  hand        45532 non-null  int64  \n",
      " 47  married     45532 non-null  int64  \n",
      " 48  race        45532 non-null  object \n",
      " 49  religion    45532 non-null  object \n",
      " 50  tp01        45532 non-null  int64  \n",
      " 51  tp02        45532 non-null  int64  \n",
      " 52  tp03        45532 non-null  int64  \n",
      " 53  tp04        45532 non-null  int64  \n",
      " 54  tp05        45532 non-null  int64  \n",
      " 55  tp06        45532 non-null  int64  \n",
      " 56  tp07        45532 non-null  int64  \n",
      " 57  tp08        45532 non-null  int64  \n",
      " 58  tp09        45532 non-null  int64  \n",
      " 59  tp10        45532 non-null  int64  \n",
      " 60  urban       45532 non-null  int64  \n",
      " 61  voted       45532 non-null  int64  \n",
      " 62  wf_01       45532 non-null  int64  \n",
      " 63  wf_02       45532 non-null  int64  \n",
      " 64  wf_03       45532 non-null  int64  \n",
      " 65  wr_01       45532 non-null  int64  \n",
      " 66  wr_02       45532 non-null  int64  \n",
      " 67  wr_03       45532 non-null  int64  \n",
      " 68  wr_04       45532 non-null  int64  \n",
      " 69  wr_05       45532 non-null  int64  \n",
      " 70  wr_06       45532 non-null  int64  \n",
      " 71  wr_07       45532 non-null  int64  \n",
      " 72  wr_08       45532 non-null  int64  \n",
      " 73  wr_09       45532 non-null  int64  \n",
      " 74  wr_10       45532 non-null  int64  \n",
      " 75  wr_11       45532 non-null  int64  \n",
      " 76  wr_12       45532 non-null  int64  \n",
      " 77  wr_13       45532 non-null  int64  \n",
      "dtypes: float64(20), int64(54), object(4)\n",
      "memory usage: 27.1+ MB\n"
     ]
    }
   ],
   "source": [
    "# columns info 분석\n",
    "\n",
    "train_csv.info()"
   ]
  },
  {
   "cell_type": "code",
   "execution_count": 4,
   "metadata": {},
   "outputs": [
    {
     "data": {
      "text/plain": [
       "religion              voted\n",
       "Agnostic              1        4402\n",
       "                      2        5222\n",
       "Atheist               1        4355\n",
       "                      2        5837\n",
       "Buddhist              1         322\n",
       "                      2         528\n",
       "Christian_Catholic    1        3045\n",
       "                      2        3386\n",
       "Christian_Mormon      1         163\n",
       "                      2         265\n",
       "Christian_Other       1        2365\n",
       "                      2        2772\n",
       "Christian_Protestant  1        2756\n",
       "                      2        2119\n",
       "Hindu                 1         553\n",
       "                      2         876\n",
       "Jewish                1         268\n",
       "                      2         219\n",
       "Muslim                1         373\n",
       "                      2         819\n",
       "Other                 1        1990\n",
       "                      2        2780\n",
       "Sikh                  1          42\n",
       "                      2          75\n",
       "Name: voted, dtype: int64"
      ]
     },
     "execution_count": 4,
     "metadata": {},
     "output_type": "execute_result"
    }
   ],
   "source": [
    "# 투표한 사람중 성별, 인종, 종교별 알아보기\n",
    "\n",
    "train_csv.groupby(['gender','voted'])['voted'].count()\n",
    "train_csv.groupby(['race','voted'])['voted'].count()\n",
    "train_csv.groupby(['religion','voted'])['voted'].count()"
   ]
  },
  {
   "cell_type": "code",
   "execution_count": 5,
   "metadata": {},
   "outputs": [
    {
     "data": {
      "image/png": "[encoded data removed]",
      "text/plain": [
       "<Figure size 432x288 with 1 Axes>"
      ]
     },
     "metadata": {
      "needs_background": "light"
     },
     "output_type": "display_data"
    },
    {
     "data": {
      "image/png": "[encoded data removed]",
      "text/plain": [
       "<Figure size 432x288 with 1 Axes>"
      ]
     },
     "metadata": {
      "needs_background": "light"
     },
     "output_type": "display_data"
    },
    {
     "data": {
      "image/png": "[encoded data removed]",
      "text/plain": [
       "<Figure size 432x288 with 1 Axes>"
      ]
     },
     "metadata": {
      "needs_background": "light"
     },
     "output_type": "display_data"
    }
   ],
   "source": [
    "import seaborn as sns\n",
    "import matplotlib.pyplot as plt\n",
    "\n",
    "sns.barplot(x='gender',y='voted',data=train_csv)\n",
    "plt.show()\n",
    "\n",
    "sns.barplot(x='race',y='voted',data=train_csv)\n",
    "plt.xticks(rotation=45)\n",
    "plt.show()\n",
    "\n",
    "sns.barplot(x='religion',y='voted',data=train_csv)\n",
    "plt.xticks(rotation=90)\n",
    "plt.show()"
   ]
  },
  {
   "cell_type": "code",
   "execution_count": 6,
   "metadata": {},
   "outputs": [
    {
     "data": {
      "text/plain": [
       "QaA  voted\n",
       "1.0  1         7902\n",
       "     2        10259\n",
       "2.0  1         5928\n",
       "     2         6984\n",
       "3.0  1         3123\n",
       "     2         4024\n",
       "4.0  1         2538\n",
       "     2         2486\n",
       "5.0  1         1143\n",
       "     2         1145\n",
       "Name: voted, dtype: int64"
      ]
     },
     "execution_count": 6,
     "metadata": {},
     "output_type": "execute_result"
    }
   ],
   "source": [
    "train_csv.groupby(['QaA','voted'])['voted'].count()"
   ]
  },
  {
   "cell_type": "code",
   "execution_count": 7,
   "metadata": {},
   "outputs": [
    {
     "data": {
      "image/png": "[encoded data removed]",
      "text/plain": [
       "<Figure size 432x288 with 1 Axes>"
      ]
     },
     "metadata": {
      "needs_background": "light"
     },
     "output_type": "display_data"
    }
   ],
   "source": [
    "sns.barplot(x='QaA',y='voted',data=train_csv)\n",
    "plt.show()"
   ]
  },
  {
   "cell_type": "code",
   "execution_count": 8,
   "metadata": {},
   "outputs": [
    {
     "data": {
      "text/plain": [
       "Index(['index', 'QaA', 'QaE', 'QbA', 'QbE', 'QcA', 'QcE', 'QdA', 'QdE', 'QeA',\n",
       "       'QeE', 'QfA', 'QfE', 'QgA', 'QgE', 'QhA', 'QhE', 'QiA', 'QiE', 'QjA',\n",
       "       'QjE', 'QkA', 'QkE', 'QlA', 'QlE', 'QmA', 'QmE', 'QnA', 'QnE', 'QoA',\n",
       "       'QoE', 'QpA', 'QpE', 'QqA', 'QqE', 'QrA', 'QrE', 'QsA', 'QsE', 'QtA',\n",
       "       'QtE', 'age_group', 'education', 'engnat', 'familysize', 'gender',\n",
       "       'hand', 'married', 'race', 'religion', 'tp01', 'tp02', 'tp03', 'tp04',\n",
       "       'tp05', 'tp06', 'tp07', 'tp08', 'tp09', 'tp10', 'urban', 'voted',\n",
       "       'wf_01', 'wf_02', 'wf_03', 'wr_01', 'wr_02', 'wr_03', 'wr_04', 'wr_05',\n",
       "       'wr_06', 'wr_07', 'wr_08', 'wr_09', 'wr_10', 'wr_11', 'wr_12', 'wr_13'],\n",
       "      dtype='object')"
      ]
     },
     "execution_count": 8,
     "metadata": {},
     "output_type": "execute_result"
    }
   ],
   "source": [
    "train_csv.columns"
   ]
  },
  {
   "cell_type": "code",
   "execution_count": 9,
   "metadata": {},
   "outputs": [
    {
     "name": "stdout",
     "output_type": "stream",
     "text": [
      "QaA  voted\n",
      "1.0  1         7902\n",
      "     2        10259\n",
      "2.0  1         5928\n",
      "     2         6984\n",
      "3.0  1         3123\n",
      "     2         4024\n",
      "4.0  1         2538\n",
      "     2         2486\n",
      "5.0  1         1143\n",
      "     2         1145\n",
      "Name: voted, dtype: int64\n",
      "QbA  voted\n",
      "1.0  1        6876\n",
      "     2        6551\n",
      "2.0  1        3742\n",
      "     2        4088\n",
      "3.0  1        1778\n",
      "     2        2274\n",
      "4.0  1        4475\n",
      "     2        5637\n",
      "5.0  1        3763\n",
      "     2        6348\n",
      "Name: voted, dtype: int64\n",
      "QcA  voted\n",
      "1.0  1         2906\n",
      "     2         2903\n",
      "2.0  1         2906\n",
      "     2         3255\n",
      "3.0  1         1544\n",
      "     2         2052\n",
      "4.0  1         5636\n",
      "     2         6359\n",
      "5.0  1         7642\n",
      "     2        10329\n",
      "Name: voted, dtype: int64\n",
      "QdA  voted\n",
      "1.0  1        11371\n",
      "     2        13867\n",
      "2.0  1         5461\n",
      "     2         6345\n",
      "3.0  1         2048\n",
      "     2         2493\n",
      "4.0  1         1127\n",
      "     2         1442\n",
      "5.0  1          627\n",
      "     2          751\n",
      "Name: voted, dtype: int64\n",
      "QeA  voted\n",
      "1.0  1        8228\n",
      "     2        9553\n",
      "2.0  1        4830\n",
      "     2        5629\n",
      "3.0  1        2956\n",
      "     2        4365\n",
      "4.0  1        2316\n",
      "     2        2660\n",
      "5.0  1        2304\n",
      "     2        2691\n",
      "Name: voted, dtype: int64\n",
      "QfA  voted\n",
      "1.0  1         8450\n",
      "     2        11127\n",
      "2.0  1         6095\n",
      "     2         6699\n",
      "3.0  1         1517\n",
      "     2         2146\n",
      "4.0  1         2387\n",
      "     2         2537\n",
      "5.0  1         2185\n",
      "     2         2389\n",
      "Name: voted, dtype: int64\n",
      "QgA  voted\n",
      "1.0  1        7101\n",
      "     2        9228\n",
      "2.0  1        4673\n",
      "     2        5274\n",
      "3.0  1        1695\n",
      "     2        2377\n",
      "4.0  1        3708\n",
      "     2        4062\n",
      "5.0  1        3457\n",
      "     2        3957\n",
      "Name: voted, dtype: int64\n",
      "QhA  voted\n",
      "1.0  1        10008\n",
      "     2        10613\n",
      "2.0  1         3166\n",
      "     2         4003\n",
      "3.0  1         2453\n",
      "     2         3600\n",
      "4.0  1         2614\n",
      "     2         3408\n",
      "5.0  1         2393\n",
      "     2         3274\n",
      "Name: voted, dtype: int64\n",
      "QiA  voted\n",
      "1.0  1        3431\n",
      "     2        4802\n",
      "2.0  1        4437\n",
      "     2        5547\n",
      "3.0  1        2403\n",
      "     2        3558\n",
      "4.0  1        4257\n",
      "     2        4821\n",
      "5.0  1        6106\n",
      "     2        6170\n",
      "Name: voted, dtype: int64\n",
      "QjA  voted\n",
      "1.0  1        2765\n",
      "     2        2365\n",
      "2.0  1        3375\n",
      "     2        3321\n",
      "3.0  1        2141\n",
      "     2        2939\n",
      "4.0  1        6493\n",
      "     2        7598\n",
      "5.0  1        5860\n",
      "     2        8675\n",
      "Name: voted, dtype: int64\n",
      "QkA  voted\n",
      "1.0  1         1583\n",
      "     2         2799\n",
      "2.0  1         2125\n",
      "     2         3063\n",
      "3.0  1         2473\n",
      "     2         3583\n",
      "4.0  1         4037\n",
      "     2         4763\n",
      "5.0  1        10416\n",
      "     2        10690\n",
      "Name: voted, dtype: int64\n",
      "QlA  voted\n",
      "1.0  1         1360\n",
      "     2         1427\n",
      "2.0  1          765\n",
      "     2          801\n",
      "3.0  1         1556\n",
      "     2         1974\n",
      "4.0  1         3668\n",
      "     2         4127\n",
      "5.0  1        13285\n",
      "     2        16569\n",
      "Name: voted, dtype: int64\n",
      "QmA  voted\n",
      "1.0  1        3162\n",
      "     2        2777\n",
      "2.0  1        3209\n",
      "     2        3191\n",
      "3.0  1        2118\n",
      "     2        2736\n",
      "4.0  1        6789\n",
      "     2        8407\n",
      "5.0  1        5356\n",
      "     2        7787\n",
      "Name: voted, dtype: int64\n",
      "QnA  voted\n",
      "1.0  1        6082\n",
      "     2        8346\n",
      "2.0  1        4838\n",
      "     2        5823\n",
      "3.0  1        1908\n",
      "     2        2610\n",
      "4.0  1        4489\n",
      "     2        4559\n",
      "5.0  1        3317\n",
      "     2        3560\n",
      "Name: voted, dtype: int64\n",
      "QoA  voted\n",
      "1.0  1        4436\n",
      "     2        4415\n",
      "2.0  1        3797\n",
      "     2        4003\n",
      "3.0  1        2148\n",
      "     2        2740\n",
      "4.0  1        5789\n",
      "     2        6804\n",
      "5.0  1        4464\n",
      "     2        6936\n",
      "Name: voted, dtype: int64\n",
      "QpA  voted\n",
      "1.0  1        5080\n",
      "     2        4753\n",
      "2.0  1        4525\n",
      "     2        4795\n",
      "3.0  1        1777\n",
      "     2        2538\n",
      "4.0  1        5213\n",
      "     2        6662\n",
      "5.0  1        4039\n",
      "     2        6150\n",
      "Name: voted, dtype: int64\n",
      "QqA  voted\n",
      "1.0  1        4136\n",
      "     2        6895\n",
      "2.0  1        3891\n",
      "     2        5331\n",
      "3.0  1        3518\n",
      "     2        4535\n",
      "4.0  1        5382\n",
      "     2        5050\n",
      "5.0  1        3707\n",
      "     2        3087\n",
      "Name: voted, dtype: int64\n",
      "QrA  voted\n",
      "1.0  1        4613\n",
      "     2        6177\n",
      "2.0  1        5002\n",
      "     2        5903\n",
      "3.0  1        3017\n",
      "     2        4013\n",
      "4.0  1        4394\n",
      "     2        4772\n",
      "5.0  1        3608\n",
      "     2        4033\n",
      "Name: voted, dtype: int64\n",
      "QsA  voted\n",
      "1.0  1        3389\n",
      "     2        3274\n",
      "2.0  1        2541\n",
      "     2        2759\n",
      "3.0  1        3373\n",
      "     2        4016\n",
      "4.0  1        6467\n",
      "     2        7554\n",
      "5.0  1        4864\n",
      "     2        7295\n",
      "Name: voted, dtype: int64\n"
     ]
    }
   ],
   "source": [
    "for x in train_csv.columns[1:39:2]:\n",
    "    print(train_csv.groupby([x,'voted'])['voted'].count())"
   ]
  },
  {
   "cell_type": "code",
   "execution_count": 10,
   "metadata": {},
   "outputs": [
    {
     "data": {
      "image/png": "[encoded data removed]",
      "text/plain": [
       "<Figure size 432x288 with 1 Axes>"
      ]
     },
     "metadata": {
      "needs_background": "light"
     },
     "output_type": "display_data"
    },
    {
     "data": {
      "image/png": "[encoded data removed]",
      "text/plain": [
       "<Figure size 432x288 with 1 Axes>"
      ]
     },
     "metadata": {
      "needs_background": "light"
     },
     "output_type": "display_data"
    },
    {
     "data": {
      "image/png": "[encoded data removed]",
      "text/plain": [
       "<Figure size 432x288 with 1 Axes>"
      ]
     },
     "metadata": {
      "needs_background": "light"
     },
     "output_type": "display_data"
    },
    {
     "data": {
      "image/png": "[encoded data removed]",
      "text/plain": [
       "<Figure size 432x288 with 1 Axes>"
      ]
     },
     "metadata": {
      "needs_background": "light"
     },
     "output_type": "display_data"
    },
    {
     "data": {
      "image/png": "[encoded data removed]",
      "text/plain": [
       "<Figure size 432x288 with 1 Axes>"
      ]
     },
     "metadata": {
      "needs_background": "light"
     },
     "output_type": "display_data"
    },
    {
     "data": {
      "image/png": "[encoded data removed]",
      "text/plain": [
       "<Figure size 432x288 with 1 Axes>"
      ]
     },
     "metadata": {
      "needs_background": "light"
     },
     "output_type": "display_data"
    },
    {
     "data": {
      "image/png": "[encoded data removed]",
      "text/plain": [
       "<Figure size 432x288 with 1 Axes>"
      ]
     },
     "metadata": {
      "needs_background": "light"
     },
     "output_type": "display_data"
    },
    {
     "data": {
      "image/png": "[encoded data removed]",
      "text/plain": [
       "<Figure size 432x288 with 1 Axes>"
      ]
     },
     "metadata": {
      "needs_background": "light"
     },
     "output_type": "display_data"
    },
    {
     "data": {
      "image/png": "[encoded data removed]",
      "text/plain": [
       "<Figure size 432x288 with 1 Axes>"
      ]
     },
     "metadata": {
      "needs_background": "light"
     },
     "output_type": "display_data"
    },
    {
     "data": {
      "image/png": "[encoded data removed]",
      "text/plain": [
       "<Figure size 432x288 with 1 Axes>"
      ]
     },
     "metadata": {
      "needs_background": "light"
     },
     "output_type": "display_data"
    },
    {
     "data": {
      "image/png": "[encoded data removed]",
      "text/plain": [
       "<Figure size 432x288 with 1 Axes>"
      ]
     },
     "metadata": {
      "needs_background": "light"
     },
     "output_type": "display_data"
    },
    {
     "data": {
      "image/png": "[encoded data removed]",
      "text/plain": [
       "<Figure size 432x288 with 1 Axes>"
      ]
     },
     "metadata": {
      "needs_background": "light"
     },
     "output_type": "display_data"
    },
    {
     "data": {
      "image/png": "[encoded data removed]",
      "text/plain": [
       "<Figure size 432x288 with 1 Axes>"
      ]
     },
     "metadata": {
      "needs_background": "light"
     },
     "output_type": "display_data"
    },
    {
     "data": {
      "image/png": "[encoded data removed]",
      "text/plain": [
       "<Figure size 432x288 with 1 Axes>"
      ]
     },
     "metadata": {
      "needs_background": "light"
     },
     "output_type": "display_data"
    },
    {
     "data": {
      "image/png": "[encoded data removed]",
      "text/plain": [
       "<Figure size 432x288 with 1 Axes>"
      ]
     },
     "metadata": {
      "needs_background": "light"
     },
     "output_type": "display_data"
    },
    {
     "data": {
      "image/png": "[encoded data removed]",
      "text/plain": [
       "<Figure size 432x288 with 1 Axes>"
      ]
     },
     "metadata": {
      "needs_background": "light"
     },
     "output_type": "display_data"
    },
    {
     "data": {
      "image/png": "[encoded data removed]",
      "text/plain": [
       "<Figure size 432x288 with 1 Axes>"
      ]
     },
     "metadata": {
      "needs_background": "light"
     },
     "output_type": "display_data"
    },
    {
     "data": {
      "image/png": "[encoded data removed]",
      "text/plain": [
       "<Figure size 432x288 with 1 Axes>"
      ]
     },
     "metadata": {
      "needs_background": "light"
     },
     "output_type": "display_data"
    },
    {
     "data": {
      "image/png": "[encoded data removed]",
      "text/plain": [
       "<Figure size 432x288 with 1 Axes>"
      ]
     },
     "metadata": {
      "needs_background": "light"
     },
     "output_type": "display_data"
    }
   ],
   "source": [
    "for i in train_csv.columns[1:39:2]:\n",
    "    sns.barplot(x=i,y='voted',data=train_csv)\n",
    "    plt.show()"
   ]
  },
  {
   "cell_type": "code",
   "execution_count": 11,
   "metadata": {},
   "outputs": [
    {
     "data": {
      "text/plain": [
       "20634"
      ]
     },
     "execution_count": 11,
     "metadata": {},
     "output_type": "execute_result"
    }
   ],
   "source": [
    "train_csv[train_csv['voted']==1]['voted'].count()"
   ]
  },
  {
   "cell_type": "code",
   "execution_count": 12,
   "metadata": {},
   "outputs": [
    {
     "data": {
      "text/plain": [
       "24898"
      ]
     },
     "execution_count": 12,
     "metadata": {},
     "output_type": "execute_result"
    }
   ],
   "source": [
    "train_csv[train_csv['voted']==2]['voted'].count()"
   ]
  },
  {
   "cell_type": "markdown",
   "metadata": {},
   "source": [
    "# SVM 분류"
   ]
  },
  {
   "cell_type": "code",
   "execution_count": 13,
   "metadata": {},
   "outputs": [
    {
     "data": {
      "text/html": [
       "<div>\n",
       "<style scoped>\n",
       "    .dataframe tbody tr th:only-of-type {\n",
       "        vertical-align: middle;\n",
       "    }\n",
       "\n",
       "    .dataframe tbody tr th {\n",
       "        vertical-align: top;\n",
       "    }\n",
       "\n",
       "    .dataframe thead th {\n",
       "        text-align: right;\n",
       "    }\n",
       "</style>\n",
       "<table border=\"1\" class=\"dataframe\">\n",
       "  <thead>\n",
       "    <tr style=\"text-align: right;\">\n",
       "      <th></th>\n",
       "      <th>QaA</th>\n",
       "      <th>QaE</th>\n",
       "      <th>QbA</th>\n",
       "      <th>QbE</th>\n",
       "      <th>QcA</th>\n",
       "      <th>QcE</th>\n",
       "      <th>QdA</th>\n",
       "      <th>QdE</th>\n",
       "      <th>QeA</th>\n",
       "      <th>QeE</th>\n",
       "      <th>...</th>\n",
       "      <th>wr_04</th>\n",
       "      <th>wr_05</th>\n",
       "      <th>wr_06</th>\n",
       "      <th>wr_07</th>\n",
       "      <th>wr_08</th>\n",
       "      <th>wr_09</th>\n",
       "      <th>wr_10</th>\n",
       "      <th>wr_11</th>\n",
       "      <th>wr_12</th>\n",
       "      <th>wr_13</th>\n",
       "    </tr>\n",
       "  </thead>\n",
       "  <tbody>\n",
       "    <tr>\n",
       "      <th>0</th>\n",
       "      <td>3.0</td>\n",
       "      <td>363</td>\n",
       "      <td>4.0</td>\n",
       "      <td>1370</td>\n",
       "      <td>5.0</td>\n",
       "      <td>997</td>\n",
       "      <td>1.0</td>\n",
       "      <td>1024</td>\n",
       "      <td>2.0</td>\n",
       "      <td>1577</td>\n",
       "      <td>...</td>\n",
       "      <td>0</td>\n",
       "      <td>1</td>\n",
       "      <td>0</td>\n",
       "      <td>1</td>\n",
       "      <td>1</td>\n",
       "      <td>0</td>\n",
       "      <td>1</td>\n",
       "      <td>0</td>\n",
       "      <td>1</td>\n",
       "      <td>1</td>\n",
       "    </tr>\n",
       "    <tr>\n",
       "      <th>1</th>\n",
       "      <td>5.0</td>\n",
       "      <td>647</td>\n",
       "      <td>5.0</td>\n",
       "      <td>1313</td>\n",
       "      <td>3.0</td>\n",
       "      <td>3387</td>\n",
       "      <td>5.0</td>\n",
       "      <td>2969</td>\n",
       "      <td>1.0</td>\n",
       "      <td>4320</td>\n",
       "      <td>...</td>\n",
       "      <td>1</td>\n",
       "      <td>1</td>\n",
       "      <td>0</td>\n",
       "      <td>1</td>\n",
       "      <td>1</td>\n",
       "      <td>0</td>\n",
       "      <td>1</td>\n",
       "      <td>0</td>\n",
       "      <td>1</td>\n",
       "      <td>1</td>\n",
       "    </tr>\n",
       "    <tr>\n",
       "      <th>2</th>\n",
       "      <td>4.0</td>\n",
       "      <td>1623</td>\n",
       "      <td>1.0</td>\n",
       "      <td>1480</td>\n",
       "      <td>1.0</td>\n",
       "      <td>1021</td>\n",
       "      <td>4.0</td>\n",
       "      <td>3374</td>\n",
       "      <td>5.0</td>\n",
       "      <td>1333</td>\n",
       "      <td>...</td>\n",
       "      <td>1</td>\n",
       "      <td>1</td>\n",
       "      <td>0</td>\n",
       "      <td>1</td>\n",
       "      <td>1</td>\n",
       "      <td>1</td>\n",
       "      <td>1</td>\n",
       "      <td>0</td>\n",
       "      <td>1</td>\n",
       "      <td>1</td>\n",
       "    </tr>\n",
       "    <tr>\n",
       "      <th>3</th>\n",
       "      <td>3.0</td>\n",
       "      <td>504</td>\n",
       "      <td>3.0</td>\n",
       "      <td>2311</td>\n",
       "      <td>4.0</td>\n",
       "      <td>992</td>\n",
       "      <td>3.0</td>\n",
       "      <td>3245</td>\n",
       "      <td>1.0</td>\n",
       "      <td>357</td>\n",
       "      <td>...</td>\n",
       "      <td>0</td>\n",
       "      <td>0</td>\n",
       "      <td>0</td>\n",
       "      <td>0</td>\n",
       "      <td>1</td>\n",
       "      <td>0</td>\n",
       "      <td>1</td>\n",
       "      <td>0</td>\n",
       "      <td>1</td>\n",
       "      <td>1</td>\n",
       "    </tr>\n",
       "    <tr>\n",
       "      <th>4</th>\n",
       "      <td>1.0</td>\n",
       "      <td>927</td>\n",
       "      <td>1.0</td>\n",
       "      <td>707</td>\n",
       "      <td>5.0</td>\n",
       "      <td>556</td>\n",
       "      <td>2.0</td>\n",
       "      <td>1062</td>\n",
       "      <td>1.0</td>\n",
       "      <td>1014</td>\n",
       "      <td>...</td>\n",
       "      <td>1</td>\n",
       "      <td>1</td>\n",
       "      <td>1</td>\n",
       "      <td>1</td>\n",
       "      <td>1</td>\n",
       "      <td>0</td>\n",
       "      <td>1</td>\n",
       "      <td>1</td>\n",
       "      <td>1</td>\n",
       "      <td>1</td>\n",
       "    </tr>\n",
       "    <tr>\n",
       "      <th>...</th>\n",
       "      <td>...</td>\n",
       "      <td>...</td>\n",
       "      <td>...</td>\n",
       "      <td>...</td>\n",
       "      <td>...</td>\n",
       "      <td>...</td>\n",
       "      <td>...</td>\n",
       "      <td>...</td>\n",
       "      <td>...</td>\n",
       "      <td>...</td>\n",
       "      <td>...</td>\n",
       "      <td>...</td>\n",
       "      <td>...</td>\n",
       "      <td>...</td>\n",
       "      <td>...</td>\n",
       "      <td>...</td>\n",
       "      <td>...</td>\n",
       "      <td>...</td>\n",
       "      <td>...</td>\n",
       "      <td>...</td>\n",
       "      <td>...</td>\n",
       "    </tr>\n",
       "    <tr>\n",
       "      <th>45527</th>\n",
       "      <td>2.0</td>\n",
       "      <td>1050</td>\n",
       "      <td>5.0</td>\n",
       "      <td>619</td>\n",
       "      <td>4.0</td>\n",
       "      <td>328</td>\n",
       "      <td>1.0</td>\n",
       "      <td>285</td>\n",
       "      <td>1.0</td>\n",
       "      <td>602</td>\n",
       "      <td>...</td>\n",
       "      <td>1</td>\n",
       "      <td>1</td>\n",
       "      <td>0</td>\n",
       "      <td>1</td>\n",
       "      <td>1</td>\n",
       "      <td>1</td>\n",
       "      <td>1</td>\n",
       "      <td>0</td>\n",
       "      <td>1</td>\n",
       "      <td>1</td>\n",
       "    </tr>\n",
       "    <tr>\n",
       "      <th>45528</th>\n",
       "      <td>2.0</td>\n",
       "      <td>581</td>\n",
       "      <td>3.0</td>\n",
       "      <td>1353</td>\n",
       "      <td>4.0</td>\n",
       "      <td>1164</td>\n",
       "      <td>1.0</td>\n",
       "      <td>798</td>\n",
       "      <td>3.0</td>\n",
       "      <td>1680</td>\n",
       "      <td>...</td>\n",
       "      <td>1</td>\n",
       "      <td>1</td>\n",
       "      <td>0</td>\n",
       "      <td>1</td>\n",
       "      <td>1</td>\n",
       "      <td>1</td>\n",
       "      <td>1</td>\n",
       "      <td>0</td>\n",
       "      <td>1</td>\n",
       "      <td>1</td>\n",
       "    </tr>\n",
       "    <tr>\n",
       "      <th>45529</th>\n",
       "      <td>4.0</td>\n",
       "      <td>593</td>\n",
       "      <td>1.0</td>\n",
       "      <td>857</td>\n",
       "      <td>1.0</td>\n",
       "      <td>1047</td>\n",
       "      <td>4.0</td>\n",
       "      <td>1515</td>\n",
       "      <td>5.0</td>\n",
       "      <td>1690</td>\n",
       "      <td>...</td>\n",
       "      <td>1</td>\n",
       "      <td>1</td>\n",
       "      <td>0</td>\n",
       "      <td>1</td>\n",
       "      <td>1</td>\n",
       "      <td>0</td>\n",
       "      <td>1</td>\n",
       "      <td>0</td>\n",
       "      <td>1</td>\n",
       "      <td>1</td>\n",
       "    </tr>\n",
       "    <tr>\n",
       "      <th>45530</th>\n",
       "      <td>1.0</td>\n",
       "      <td>747</td>\n",
       "      <td>3.0</td>\n",
       "      <td>1331</td>\n",
       "      <td>4.0</td>\n",
       "      <td>892</td>\n",
       "      <td>2.0</td>\n",
       "      <td>1281</td>\n",
       "      <td>1.0</td>\n",
       "      <td>1328</td>\n",
       "      <td>...</td>\n",
       "      <td>1</td>\n",
       "      <td>1</td>\n",
       "      <td>0</td>\n",
       "      <td>1</td>\n",
       "      <td>1</td>\n",
       "      <td>1</td>\n",
       "      <td>1</td>\n",
       "      <td>0</td>\n",
       "      <td>1</td>\n",
       "      <td>1</td>\n",
       "    </tr>\n",
       "    <tr>\n",
       "      <th>45531</th>\n",
       "      <td>3.0</td>\n",
       "      <td>496</td>\n",
       "      <td>5.0</td>\n",
       "      <td>1827</td>\n",
       "      <td>5.0</td>\n",
       "      <td>754</td>\n",
       "      <td>3.0</td>\n",
       "      <td>1117</td>\n",
       "      <td>1.0</td>\n",
       "      <td>432</td>\n",
       "      <td>...</td>\n",
       "      <td>1</td>\n",
       "      <td>1</td>\n",
       "      <td>0</td>\n",
       "      <td>1</td>\n",
       "      <td>1</td>\n",
       "      <td>0</td>\n",
       "      <td>1</td>\n",
       "      <td>0</td>\n",
       "      <td>1</td>\n",
       "      <td>1</td>\n",
       "    </tr>\n",
       "  </tbody>\n",
       "</table>\n",
       "<p>45532 rows × 76 columns</p>\n",
       "</div>"
      ],
      "text/plain": [
       "       QaA   QaE  QbA   QbE  QcA   QcE  QdA   QdE  QeA   QeE  ...  wr_04  \\\n",
       "0      3.0   363  4.0  1370  5.0   997  1.0  1024  2.0  1577  ...      0   \n",
       "1      5.0   647  5.0  1313  3.0  3387  5.0  2969  1.0  4320  ...      1   \n",
       "2      4.0  1623  1.0  1480  1.0  1021  4.0  3374  5.0  1333  ...      1   \n",
       "3      3.0   504  3.0  2311  4.0   992  3.0  3245  1.0   357  ...      0   \n",
       "4      1.0   927  1.0   707  5.0   556  2.0  1062  1.0  1014  ...      1   \n",
       "...    ...   ...  ...   ...  ...   ...  ...   ...  ...   ...  ...    ...   \n",
       "45527  2.0  1050  5.0   619  4.0   328  1.0   285  1.0   602  ...      1   \n",
       "45528  2.0   581  3.0  1353  4.0  1164  1.0   798  3.0  1680  ...      1   \n",
       "45529  4.0   593  1.0   857  1.0  1047  4.0  1515  5.0  1690  ...      1   \n",
       "45530  1.0   747  3.0  1331  4.0   892  2.0  1281  1.0  1328  ...      1   \n",
       "45531  3.0   496  5.0  1827  5.0   754  3.0  1117  1.0   432  ...      1   \n",
       "\n",
       "       wr_05  wr_06  wr_07  wr_08  wr_09  wr_10  wr_11  wr_12  wr_13  \n",
       "0          1      0      1      1      0      1      0      1      1  \n",
       "1          1      0      1      1      0      1      0      1      1  \n",
       "2          1      0      1      1      1      1      0      1      1  \n",
       "3          0      0      0      1      0      1      0      1      1  \n",
       "4          1      1      1      1      0      1      1      1      1  \n",
       "...      ...    ...    ...    ...    ...    ...    ...    ...    ...  \n",
       "45527      1      0      1      1      1      1      0      1      1  \n",
       "45528      1      0      1      1      1      1      0      1      1  \n",
       "45529      1      0      1      1      0      1      0      1      1  \n",
       "45530      1      0      1      1      1      1      0      1      1  \n",
       "45531      1      0      1      1      0      1      0      1      1  \n",
       "\n",
       "[45532 rows x 76 columns]"
      ]
     },
     "execution_count": 13,
     "metadata": {},
     "output_type": "execute_result"
    }
   ],
   "source": [
    "# svm 분류 하기\n",
    "\n",
    "from sklearn.svm import SVC\n",
    "\n",
    "data=train_csv.drop(['voted','index'],axis=1)\n",
    "data"
   ]
  },
  {
   "cell_type": "code",
   "execution_count": 14,
   "metadata": {},
   "outputs": [
    {
     "data": {
      "text/plain": [
       "array(['30s', '20s', '40s', '50s', '10s', '60s', '+70s'], dtype=object)"
      ]
     },
     "execution_count": 14,
     "metadata": {},
     "output_type": "execute_result"
    }
   ],
   "source": [
    "# age_group,gender,race,religion 이 object임으로 int로 바꿔줌\n",
    "\n",
    "data['age_group'].unique()"
   ]
  },
  {
   "cell_type": "code",
   "execution_count": 15,
   "metadata": {},
   "outputs": [
    {
     "data": {
      "text/plain": [
       "array([3, 2, 4, 5, 1, 6, 7], dtype=int64)"
      ]
     },
     "execution_count": 15,
     "metadata": {},
     "output_type": "execute_result"
    }
   ],
   "source": [
    "# object를 int로 변환\n",
    "change_age=['10s','20s','30s','40s','50s','60s','+70s']\n",
    "decode_age=[1,2,3,4,5,6,7]\n",
    "\n",
    "for i in range(len(change_age)):\n",
    "    data['age_group']=data['age_group'].replace(change_age[i],decode_age[i])\n",
    "    \n",
    "data['age_group'].unique()"
   ]
  },
  {
   "cell_type": "code",
   "execution_count": 16,
   "metadata": {},
   "outputs": [
    {
     "data": {
      "text/plain": [
       "array(['White', 'Asian', 'Other', 'Black', 'Native American', 'Arab',\n",
       "       'Indigenous Australian'], dtype=object)"
      ]
     },
     "execution_count": 16,
     "metadata": {},
     "output_type": "execute_result"
    }
   ],
   "source": [
    "data['race'].unique()"
   ]
  },
  {
   "cell_type": "code",
   "execution_count": 17,
   "metadata": {},
   "outputs": [
    {
     "data": {
      "text/plain": [
       "array([6, 2, 7, 3, 5, 1, 4], dtype=int64)"
      ]
     },
     "execution_count": 17,
     "metadata": {},
     "output_type": "execute_result"
    }
   ],
   "source": [
    "change_race=['Arab','Asian','Black','Indigenous Australian','Native American','White','Other']\n",
    "decode_race=[1,2,3,4,5,6,7]\n",
    "for i in range(len(change_race)):\n",
    "    data['race']=data['race'].replace(change_race[i],decode_race[i])\n",
    "    \n",
    "data['race'].unique()"
   ]
  },
  {
   "cell_type": "code",
   "execution_count": 18,
   "metadata": {},
   "outputs": [
    {
     "data": {
      "text/plain": [
       "array(['Female', 'Male'], dtype=object)"
      ]
     },
     "execution_count": 18,
     "metadata": {},
     "output_type": "execute_result"
    }
   ],
   "source": [
    "data['gender'].unique()"
   ]
  },
  {
   "cell_type": "code",
   "execution_count": 19,
   "metadata": {},
   "outputs": [
    {
     "data": {
      "text/plain": [
       "array([1, 2], dtype=int64)"
      ]
     },
     "execution_count": 19,
     "metadata": {},
     "output_type": "execute_result"
    }
   ],
   "source": [
    "change_gender=['Female','Male']\n",
    "decode_gender=[1,2]\n",
    "\n",
    "for i in range(len(change_gender)):\n",
    "    data['gender']=data['gender'].replace(change_gender[i],decode_gender[i])\n",
    "    \n",
    "data['gender'].unique()"
   ]
  },
  {
   "cell_type": "code",
   "execution_count": 20,
   "metadata": {},
   "outputs": [
    {
     "data": {
      "text/plain": [
       "array(['Other', 'Hindu', 'Agnostic', 'Atheist', 'Christian_Other',\n",
       "       'Christian_Catholic', 'Muslim', 'Buddhist', 'Christian_Protestant',\n",
       "       'Jewish', 'Christian_Mormon', 'Sikh'], dtype=object)"
      ]
     },
     "execution_count": 20,
     "metadata": {},
     "output_type": "execute_result"
    }
   ],
   "source": [
    "data['religion'].unique()"
   ]
  },
  {
   "cell_type": "code",
   "execution_count": 21,
   "metadata": {},
   "outputs": [
    {
     "data": {
      "text/plain": [
       "array([11,  8,  1,  2,  6,  4, 10,  3,  7,  9,  5, 12], dtype=int64)"
      ]
     },
     "execution_count": 21,
     "metadata": {},
     "output_type": "execute_result"
    }
   ],
   "source": [
    "change_religion=['Agnostic','Atheist','Buddhist','Christian_Catholic','Christian_Mormon','Christian_Other','Christian_Protestant','Hindu','Jewish','Muslim','Other','Sikh']\n",
    "decode_religion=[1,2,3,4,5,6,7,8,9,10,11,12]\n",
    "\n",
    "for i in range(len(change_religion)):\n",
    "    data['religion']=data['religion'].replace(change_religion[i],decode_religion[i])\n",
    "    \n",
    "data['religion'].unique()"
   ]
  },
  {
   "cell_type": "code",
   "execution_count": 22,
   "metadata": {},
   "outputs": [
    {
     "name": "stdout",
     "output_type": "stream",
     "text": [
      "<class 'pandas.core.frame.DataFrame'>\n",
      "RangeIndex: 45532 entries, 0 to 45531\n",
      "Data columns (total 76 columns):\n",
      " #   Column      Non-Null Count  Dtype  \n",
      "---  ------      --------------  -----  \n",
      " 0   QaA         45532 non-null  float64\n",
      " 1   QaE         45532 non-null  int64  \n",
      " 2   QbA         45532 non-null  float64\n",
      " 3   QbE         45532 non-null  int64  \n",
      " 4   QcA         45532 non-null  float64\n",
      " 5   QcE         45532 non-null  int64  \n",
      " 6   QdA         45532 non-null  float64\n",
      " 7   QdE         45532 non-null  int64  \n",
      " 8   QeA         45532 non-null  float64\n",
      " 9   QeE         45532 non-null  int64  \n",
      " 10  QfA         45532 non-null  float64\n",
      " 11  QfE         45532 non-null  int64  \n",
      " 12  QgA         45532 non-null  float64\n",
      " 13  QgE         45532 non-null  int64  \n",
      " 14  QhA         45532 non-null  float64\n",
      " 15  QhE         45532 non-null  int64  \n",
      " 16  QiA         45532 non-null  float64\n",
      " 17  QiE         45532 non-null  int64  \n",
      " 18  QjA         45532 non-null  float64\n",
      " 19  QjE         45532 non-null  int64  \n",
      " 20  QkA         45532 non-null  float64\n",
      " 21  QkE         45532 non-null  int64  \n",
      " 22  QlA         45532 non-null  float64\n",
      " 23  QlE         45532 non-null  int64  \n",
      " 24  QmA         45532 non-null  float64\n",
      " 25  QmE         45532 non-null  int64  \n",
      " 26  QnA         45532 non-null  float64\n",
      " 27  QnE         45532 non-null  int64  \n",
      " 28  QoA         45532 non-null  float64\n",
      " 29  QoE         45532 non-null  int64  \n",
      " 30  QpA         45532 non-null  float64\n",
      " 31  QpE         45532 non-null  int64  \n",
      " 32  QqA         45532 non-null  float64\n",
      " 33  QqE         45532 non-null  int64  \n",
      " 34  QrA         45532 non-null  float64\n",
      " 35  QrE         45532 non-null  int64  \n",
      " 36  QsA         45532 non-null  float64\n",
      " 37  QsE         45532 non-null  int64  \n",
      " 38  QtA         45532 non-null  float64\n",
      " 39  QtE         45532 non-null  int64  \n",
      " 40  age_group   45532 non-null  int64  \n",
      " 41  education   45532 non-null  int64  \n",
      " 42  engnat      45532 non-null  int64  \n",
      " 43  familysize  45532 non-null  int64  \n",
      " 44  gender      45532 non-null  int64  \n",
      " 45  hand        45532 non-null  int64  \n",
      " 46  married     45532 non-null  int64  \n",
      " 47  race        45532 non-null  int64  \n",
      " 48  religion    45532 non-null  int64  \n",
      " 49  tp01        45532 non-null  int64  \n",
      " 50  tp02        45532 non-null  int64  \n",
      " 51  tp03        45532 non-null  int64  \n",
      " 52  tp04        45532 non-null  int64  \n",
      " 53  tp05        45532 non-null  int64  \n",
      " 54  tp06        45532 non-null  int64  \n",
      " 55  tp07        45532 non-null  int64  \n",
      " 56  tp08        45532 non-null  int64  \n",
      " 57  tp09        45532 non-null  int64  \n",
      " 58  tp10        45532 non-null  int64  \n",
      " 59  urban       45532 non-null  int64  \n",
      " 60  wf_01       45532 non-null  int64  \n",
      " 61  wf_02       45532 non-null  int64  \n",
      " 62  wf_03       45532 non-null  int64  \n",
      " 63  wr_01       45532 non-null  int64  \n",
      " 64  wr_02       45532 non-null  int64  \n",
      " 65  wr_03       45532 non-null  int64  \n",
      " 66  wr_04       45532 non-null  int64  \n",
      " 67  wr_05       45532 non-null  int64  \n",
      " 68  wr_06       45532 non-null  int64  \n",
      " 69  wr_07       45532 non-null  int64  \n",
      " 70  wr_08       45532 non-null  int64  \n",
      " 71  wr_09       45532 non-null  int64  \n",
      " 72  wr_10       45532 non-null  int64  \n",
      " 73  wr_11       45532 non-null  int64  \n",
      " 74  wr_12       45532 non-null  int64  \n",
      " 75  wr_13       45532 non-null  int64  \n",
      "dtypes: float64(20), int64(56)\n",
      "memory usage: 26.4 MB\n"
     ]
    }
   ],
   "source": [
    "# 모든 데이터 타입이 int, float인지 확인\n",
    "\n",
    "data.info()"
   ]
  },
  {
   "cell_type": "code",
   "execution_count": 23,
   "metadata": {},
   "outputs": [
    {
     "data": {
      "text/plain": [
       "Index(['QaA', 'QaE', 'QbA', 'QbE', 'QcA', 'QcE', 'QdA', 'QdE', 'QeA', 'QeE',\n",
       "       'QfA', 'QfE', 'QgA', 'QgE', 'QhA', 'QhE', 'QiA', 'QiE', 'QjA', 'QjE',\n",
       "       'QkA', 'QkE', 'QlA', 'QlE', 'QmA', 'QmE', 'QnA', 'QnE', 'QoA', 'QoE',\n",
       "       'QpA', 'QpE', 'QqA', 'QqE', 'QrA', 'QrE', 'QsA', 'QsE', 'QtA', 'QtE',\n",
       "       'age_group', 'education', 'engnat', 'familysize', 'gender', 'hand',\n",
       "       'married', 'race', 'religion', 'tp01', 'tp02', 'tp03', 'tp04', 'tp05',\n",
       "       'tp06', 'tp07', 'tp08', 'tp09', 'tp10', 'urban', 'wf_01', 'wf_02',\n",
       "       'wf_03', 'wr_01', 'wr_02', 'wr_03', 'wr_04', 'wr_05', 'wr_06', 'wr_07',\n",
       "       'wr_08', 'wr_09', 'wr_10', 'wr_11', 'wr_12', 'wr_13'],\n",
       "      dtype='object')"
      ]
     },
     "execution_count": 23,
     "metadata": {},
     "output_type": "execute_result"
    }
   ],
   "source": [
    "data.columns"
   ]
  },
  {
   "cell_type": "code",
   "execution_count": 24,
   "metadata": {},
   "outputs": [
    {
     "name": "stdout",
     "output_type": "stream",
     "text": [
      "QaE\n",
      "QbE\n",
      "QcE\n",
      "QdE\n",
      "QeE\n",
      "QfE\n",
      "QgE\n",
      "QhE\n",
      "QiE\n",
      "QjE\n",
      "QkE\n",
      "QlE\n",
      "QmE\n",
      "QnE\n",
      "QoE\n",
      "QpE\n",
      "QqE\n",
      "QrE\n",
      "QsE\n",
      "QtE\n"
     ]
    }
   ],
   "source": [
    "# QaE,QbE 같은 시간초는 관계가 없으므로 제거\n",
    "\n",
    "rd=[]\n",
    "for i in range(1,40,2):\n",
    "    print(data.columns[i])\n",
    "    rd.append(data.columns[i])"
   ]
  },
  {
   "cell_type": "code",
   "execution_count": 25,
   "metadata": {},
   "outputs": [
    {
     "name": "stdout",
     "output_type": "stream",
     "text": [
      "       QaA  QbA  QcA  QdA  QeA  QfA  QgA  QhA  QiA  QjA  ...  wr_04  wr_05  \\\n",
      "0      3.0  4.0  5.0  1.0  2.0  5.0  2.0  4.0  5.0  4.0  ...      0      1   \n",
      "1      5.0  5.0  3.0  5.0  1.0  3.0  1.0  1.0  5.0  3.0  ...      1      1   \n",
      "2      4.0  1.0  1.0  4.0  5.0  1.0  4.0  1.0  3.0  2.0  ...      1      1   \n",
      "3      3.0  3.0  4.0  3.0  1.0  2.0  4.0  3.0  5.0  4.0  ...      0      0   \n",
      "4      1.0  1.0  5.0  2.0  1.0  2.0  1.0  1.0  5.0  5.0  ...      1      1   \n",
      "...    ...  ...  ...  ...  ...  ...  ...  ...  ...  ...  ...    ...    ...   \n",
      "45527  2.0  5.0  4.0  1.0  1.0  1.0  1.0  1.0  1.0  4.0  ...      1      1   \n",
      "45528  2.0  3.0  4.0  1.0  3.0  2.0  2.0  1.0  2.0  5.0  ...      1      1   \n",
      "45529  4.0  1.0  1.0  4.0  5.0  4.0  5.0  1.0  5.0  1.0  ...      1      1   \n",
      "45530  1.0  3.0  4.0  2.0  1.0  1.0  1.0  1.0  5.0  1.0  ...      1      1   \n",
      "45531  3.0  5.0  5.0  3.0  1.0  4.0  3.0  3.0  4.0  4.0  ...      1      1   \n",
      "\n",
      "       wr_06  wr_07  wr_08  wr_09  wr_10  wr_11  wr_12  wr_13  \n",
      "0          0      1      1      0      1      0      1      1  \n",
      "1          0      1      1      0      1      0      1      1  \n",
      "2          0      1      1      1      1      0      1      1  \n",
      "3          0      0      1      0      1      0      1      1  \n",
      "4          1      1      1      0      1      1      1      1  \n",
      "...      ...    ...    ...    ...    ...    ...    ...    ...  \n",
      "45527      0      1      1      1      1      0      1      1  \n",
      "45528      0      1      1      1      1      0      1      1  \n",
      "45529      0      1      1      0      1      0      1      1  \n",
      "45530      0      1      1      1      1      0      1      1  \n",
      "45531      0      1      1      0      1      0      1      1  \n",
      "\n",
      "[45532 rows x 56 columns]\n",
      "Index(['QaA', 'QbA', 'QcA', 'QdA', 'QeA', 'QfA', 'QgA', 'QhA', 'QiA', 'QjA',\n",
      "       'QkA', 'QlA', 'QmA', 'QnA', 'QoA', 'QpA', 'QqA', 'QrA', 'QsA', 'QtA',\n",
      "       'age_group', 'education', 'engnat', 'familysize', 'gender', 'hand',\n",
      "       'married', 'race', 'religion', 'tp01', 'tp02', 'tp03', 'tp04', 'tp05',\n",
      "       'tp06', 'tp07', 'tp08', 'tp09', 'tp10', 'urban', 'wf_01', 'wf_02',\n",
      "       'wf_03', 'wr_01', 'wr_02', 'wr_03', 'wr_04', 'wr_05', 'wr_06', 'wr_07',\n",
      "       'wr_08', 'wr_09', 'wr_10', 'wr_11', 'wr_12', 'wr_13'],\n",
      "      dtype='object')\n"
     ]
    }
   ],
   "source": [
    "for a in rd:\n",
    "    data=data.drop(['{}'.format(a)],axis=1)\n",
    "    \n",
    "print(data)\n",
    "print(data.columns)"
   ]
  },
  {
   "cell_type": "code",
   "execution_count": 26,
   "metadata": {},
   "outputs": [
    {
     "data": {
      "text/plain": [
       "array([[3., 4., 5., ..., 0., 1., 1.],\n",
       "       [5., 5., 3., ..., 0., 1., 1.],\n",
       "       [4., 1., 1., ..., 0., 1., 1.],\n",
       "       ...,\n",
       "       [4., 1., 1., ..., 0., 1., 1.],\n",
       "       [1., 3., 4., ..., 0., 1., 1.],\n",
       "       [3., 5., 5., ..., 0., 1., 1.]])"
      ]
     },
     "execution_count": 26,
     "metadata": {},
     "output_type": "execute_result"
    }
   ],
   "source": [
    "data_num=data.to_numpy()\n",
    "data_num"
   ]
  },
  {
   "cell_type": "code",
   "execution_count": 27,
   "metadata": {},
   "outputs": [
    {
     "data": {
      "text/plain": [
       "0        2\n",
       "1        2\n",
       "2        1\n",
       "3        1\n",
       "4        1\n",
       "        ..\n",
       "45527    2\n",
       "45528    2\n",
       "45529    1\n",
       "45530    1\n",
       "45531    1\n",
       "Name: voted, Length: 45532, dtype: int64"
      ]
     },
     "execution_count": 27,
     "metadata": {},
     "output_type": "execute_result"
    }
   ],
   "source": [
    "# voted를 target변수로 지정하여 reshape를 사용해 1열로 변경.\n",
    "\n",
    "target=train_csv['voted']\n",
    "target"
   ]
  },
  {
   "cell_type": "code",
   "execution_count": 28,
   "metadata": {},
   "outputs": [
    {
     "data": {
      "text/plain": [
       "array([2, 2, 1, ..., 1, 1, 1], dtype=int64)"
      ]
     },
     "execution_count": 28,
     "metadata": {},
     "output_type": "execute_result"
    }
   ],
   "source": [
    "target_num=target.to_numpy()\n",
    "target_num"
   ]
  },
  {
   "cell_type": "code",
   "execution_count": 29,
   "metadata": {},
   "outputs": [
    {
     "data": {
      "text/plain": [
       "array([[2],\n",
       "       [2],\n",
       "       [1],\n",
       "       ...,\n",
       "       [1],\n",
       "       [1],\n",
       "       [1]], dtype=int64)"
      ]
     },
     "execution_count": 29,
     "metadata": {},
     "output_type": "execute_result"
    }
   ],
   "source": [
    "target_num.reshape(target.count(),1)"
   ]
  },
  {
   "cell_type": "code",
   "execution_count": 30,
   "metadata": {},
   "outputs": [
    {
     "data": {
      "text/plain": [
       "array([[2],\n",
       "       [2],\n",
       "       [1],\n",
       "       ...,\n",
       "       [1],\n",
       "       [1],\n",
       "       [1]], dtype=int64)"
      ]
     },
     "execution_count": 30,
     "metadata": {},
     "output_type": "execute_result"
    }
   ],
   "source": [
    "target_num=target_num.reshape(target.count(),1)\n",
    "target_num"
   ]
  },
  {
   "cell_type": "code",
   "execution_count": 31,
   "metadata": {},
   "outputs": [],
   "source": [
    "# 기존 data로 train,test set으로 나눔(나머지 특성을 feature로, voted부분을 target으로)\n",
    "\n",
    "from sklearn.model_selection import train_test_split\n",
    "\n",
    "trainX, testX, trainY, testY = train_test_split(data_num, target_num, test_size=0.2)"
   ]
  },
  {
   "cell_type": "code",
   "execution_count": 32,
   "metadata": {},
   "outputs": [
    {
     "data": {
      "text/plain": [
       "array([[2],\n",
       "       [2],\n",
       "       [2],\n",
       "       ...,\n",
       "       [2],\n",
       "       [2],\n",
       "       [1]], dtype=int64)"
      ]
     },
     "execution_count": 32,
     "metadata": {},
     "output_type": "execute_result"
    }
   ],
   "source": [
    "trainY"
   ]
  },
  {
   "cell_type": "code",
   "execution_count": 32,
   "metadata": {},
   "outputs": [
    {
     "name": "stderr",
     "output_type": "stream",
     "text": [
      "C:\\Anaconda3\\lib\\site-packages\\sklearn\\utils\\validation.py:73: DataConversionWarning: A column-vector y was passed when a 1d array was expected. Please change the shape of y to (n_samples, ), for example using ravel().\n",
      "  return f(**kwargs)\n"
     ]
    },
    {
     "name": "stdout",
     "output_type": "stream",
     "text": [
      "학습용 데이터로 측정한 정확도 = 1.00\n",
      "시험용 데이터로 측정한 정확도 = 0.60\n"
     ]
    }
   ],
   "source": [
    "svm = SVC(kernel='rbf',C=10,gamma=0.1,random_state=0)\n",
    "svm.fit(trainX, trainY)\n",
    "\n",
    "print('학습용 데이터로 측정한 정확도 = %.2f' % svm.score(trainX, trainY))\n",
    "print('시험용 데이터로 측정한 정확도 = %.2f' % svm.score(testX, testY))\n"
   ]
  },
  {
   "cell_type": "code",
   "execution_count": 33,
   "metadata": {},
   "outputs": [
    {
     "name": "stderr",
     "output_type": "stream",
     "text": [
      "C:\\Anaconda3\\lib\\site-packages\\sklearn\\utils\\validation.py:73: DataConversionWarning: A column-vector y was passed when a 1d array was expected. Please change the shape of y to (n_samples, ), for example using ravel().\n",
      "  return f(**kwargs)\n"
     ]
    },
    {
     "name": "stdout",
     "output_type": "stream",
     "text": [
      "학습용 데이터로 측정한 정확도 = 1.00\n",
      "시험용 데이터로 측정한 정확도 = 0.55\n"
     ]
    }
   ],
   "source": [
    "svm1 = SVC(kernel='rbf',C=10,gamma=10,random_state=0)\n",
    "svm1.fit(trainX, trainY)\n",
    "\n",
    "print('학습용 데이터로 측정한 정확도 = %.2f' % svm1.score(trainX, trainY))\n",
    "print('시험용 데이터로 측정한 정확도 = %.2f' % svm1.score(testX, testY))\n"
   ]
  },
  {
   "cell_type": "code",
   "execution_count": 34,
   "metadata": {},
   "outputs": [
    {
     "name": "stderr",
     "output_type": "stream",
     "text": [
      "C:\\Anaconda3\\lib\\site-packages\\sklearn\\utils\\validation.py:73: DataConversionWarning: A column-vector y was passed when a 1d array was expected. Please change the shape of y to (n_samples, ), for example using ravel().\n",
      "  return f(**kwargs)\n"
     ]
    },
    {
     "name": "stdout",
     "output_type": "stream",
     "text": [
      "학습용 데이터로 측정한 정확도 = 1.00\n",
      "시험용 데이터로 측정한 정확도 = 0.55\n"
     ]
    }
   ],
   "source": [
    "svm2 = SVC(kernel='rbf',C=10,gamma=50,random_state=0)\n",
    "svm2.fit(trainX, trainY)\n",
    "\n",
    "print('학습용 데이터로 측정한 정확도 = %.2f' % svm2.score(trainX, trainY))\n",
    "print('시험용 데이터로 측정한 정확도 = %.2f' % svm2.score(testX, testY))\n"
   ]
  },
  {
   "cell_type": "code",
   "execution_count": 33,
   "metadata": {},
   "outputs": [
    {
     "name": "stderr",
     "output_type": "stream",
     "text": [
      "C:\\Anaconda3\\lib\\site-packages\\sklearn\\utils\\validation.py:73: DataConversionWarning: A column-vector y was passed when a 1d array was expected. Please change the shape of y to (n_samples, ), for example using ravel().\n",
      "  return f(**kwargs)\n"
     ]
    },
    {
     "name": "stdout",
     "output_type": "stream",
     "text": [
      "시험용 데이터로 측정한 정확도 = 0.60\n"
     ]
    }
   ],
   "source": [
    "svm3 = SVC(kernel='rbf',C=50,gamma=0.1,random_state=0)\n",
    "svm3.fit(trainX, trainY)\n",
    "\n",
    "print('시험용 데이터로 측정한 정확도 = %.2f' % svm3.score(testX, testY))\n"
   ]
  },
  {
   "cell_type": "code",
   "execution_count": 34,
   "metadata": {},
   "outputs": [
    {
     "name": "stderr",
     "output_type": "stream",
     "text": [
      "C:\\Anaconda3\\lib\\site-packages\\sklearn\\utils\\validation.py:73: DataConversionWarning: A column-vector y was passed when a 1d array was expected. Please change the shape of y to (n_samples, ), for example using ravel().\n",
      "  return f(**kwargs)\n"
     ]
    },
    {
     "name": "stdout",
     "output_type": "stream",
     "text": [
      "시험용 데이터로 측정한 정확도 = 0.60\n"
     ]
    }
   ],
   "source": [
    "svm4 = SVC(kernel='rbf',C=100,gamma=0.1,random_state=0)\n",
    "svm4.fit(trainX, trainY)\n",
    "\n",
    "print('시험용 데이터로 측정한 정확도 = %.2f' % svm4.score(testX, testY))\n"
   ]
  },
  {
   "cell_type": "code",
   "execution_count": 46,
   "metadata": {},
   "outputs": [
    {
     "data": {
      "text/html": [
       "<div>\n",
       "<style scoped>\n",
       "    .dataframe tbody tr th:only-of-type {\n",
       "        vertical-align: middle;\n",
       "    }\n",
       "\n",
       "    .dataframe tbody tr th {\n",
       "        vertical-align: top;\n",
       "    }\n",
       "\n",
       "    .dataframe thead th {\n",
       "        text-align: right;\n",
       "    }\n",
       "</style>\n",
       "<table border=\"1\" class=\"dataframe\">\n",
       "  <thead>\n",
       "    <tr style=\"text-align: right;\">\n",
       "      <th></th>\n",
       "      <th>index</th>\n",
       "      <th>QaA</th>\n",
       "      <th>QaE</th>\n",
       "      <th>QbA</th>\n",
       "      <th>QbE</th>\n",
       "      <th>QcA</th>\n",
       "      <th>QcE</th>\n",
       "      <th>QdA</th>\n",
       "      <th>QdE</th>\n",
       "      <th>QeA</th>\n",
       "      <th>...</th>\n",
       "      <th>wr_04</th>\n",
       "      <th>wr_05</th>\n",
       "      <th>wr_06</th>\n",
       "      <th>wr_07</th>\n",
       "      <th>wr_08</th>\n",
       "      <th>wr_09</th>\n",
       "      <th>wr_10</th>\n",
       "      <th>wr_11</th>\n",
       "      <th>wr_12</th>\n",
       "      <th>wr_13</th>\n",
       "    </tr>\n",
       "  </thead>\n",
       "  <tbody>\n",
       "    <tr>\n",
       "      <th>0</th>\n",
       "      <td>0</td>\n",
       "      <td>3.0</td>\n",
       "      <td>736</td>\n",
       "      <td>2.0</td>\n",
       "      <td>2941</td>\n",
       "      <td>3.0</td>\n",
       "      <td>4621</td>\n",
       "      <td>1.0</td>\n",
       "      <td>4857</td>\n",
       "      <td>2.0</td>\n",
       "      <td>...</td>\n",
       "      <td>0</td>\n",
       "      <td>1</td>\n",
       "      <td>0</td>\n",
       "      <td>0</td>\n",
       "      <td>1</td>\n",
       "      <td>0</td>\n",
       "      <td>1</td>\n",
       "      <td>0</td>\n",
       "      <td>1</td>\n",
       "      <td>1</td>\n",
       "    </tr>\n",
       "    <tr>\n",
       "      <th>1</th>\n",
       "      <td>1</td>\n",
       "      <td>3.0</td>\n",
       "      <td>514</td>\n",
       "      <td>2.0</td>\n",
       "      <td>1952</td>\n",
       "      <td>3.0</td>\n",
       "      <td>1552</td>\n",
       "      <td>3.0</td>\n",
       "      <td>821</td>\n",
       "      <td>4.0</td>\n",
       "      <td>...</td>\n",
       "      <td>0</td>\n",
       "      <td>0</td>\n",
       "      <td>0</td>\n",
       "      <td>0</td>\n",
       "      <td>0</td>\n",
       "      <td>0</td>\n",
       "      <td>0</td>\n",
       "      <td>0</td>\n",
       "      <td>0</td>\n",
       "      <td>0</td>\n",
       "    </tr>\n",
       "    <tr>\n",
       "      <th>2</th>\n",
       "      <td>2</td>\n",
       "      <td>3.0</td>\n",
       "      <td>500</td>\n",
       "      <td>2.0</td>\n",
       "      <td>2507</td>\n",
       "      <td>4.0</td>\n",
       "      <td>480</td>\n",
       "      <td>2.0</td>\n",
       "      <td>614</td>\n",
       "      <td>2.0</td>\n",
       "      <td>...</td>\n",
       "      <td>0</td>\n",
       "      <td>1</td>\n",
       "      <td>0</td>\n",
       "      <td>1</td>\n",
       "      <td>1</td>\n",
       "      <td>0</td>\n",
       "      <td>1</td>\n",
       "      <td>0</td>\n",
       "      <td>1</td>\n",
       "      <td>1</td>\n",
       "    </tr>\n",
       "    <tr>\n",
       "      <th>3</th>\n",
       "      <td>3</td>\n",
       "      <td>1.0</td>\n",
       "      <td>669</td>\n",
       "      <td>1.0</td>\n",
       "      <td>1050</td>\n",
       "      <td>5.0</td>\n",
       "      <td>1435</td>\n",
       "      <td>2.0</td>\n",
       "      <td>2252</td>\n",
       "      <td>5.0</td>\n",
       "      <td>...</td>\n",
       "      <td>1</td>\n",
       "      <td>1</td>\n",
       "      <td>1</td>\n",
       "      <td>1</td>\n",
       "      <td>1</td>\n",
       "      <td>1</td>\n",
       "      <td>1</td>\n",
       "      <td>1</td>\n",
       "      <td>1</td>\n",
       "      <td>1</td>\n",
       "    </tr>\n",
       "    <tr>\n",
       "      <th>4</th>\n",
       "      <td>4</td>\n",
       "      <td>2.0</td>\n",
       "      <td>499</td>\n",
       "      <td>1.0</td>\n",
       "      <td>1243</td>\n",
       "      <td>5.0</td>\n",
       "      <td>845</td>\n",
       "      <td>2.0</td>\n",
       "      <td>1666</td>\n",
       "      <td>2.0</td>\n",
       "      <td>...</td>\n",
       "      <td>1</td>\n",
       "      <td>1</td>\n",
       "      <td>0</td>\n",
       "      <td>1</td>\n",
       "      <td>1</td>\n",
       "      <td>0</td>\n",
       "      <td>1</td>\n",
       "      <td>1</td>\n",
       "      <td>1</td>\n",
       "      <td>1</td>\n",
       "    </tr>\n",
       "  </tbody>\n",
       "</table>\n",
       "<p>5 rows × 77 columns</p>\n",
       "</div>"
      ],
      "text/plain": [
       "   index  QaA  QaE  QbA   QbE  QcA   QcE  QdA   QdE  QeA  ...  wr_04  wr_05  \\\n",
       "0      0  3.0  736  2.0  2941  3.0  4621  1.0  4857  2.0  ...      0      1   \n",
       "1      1  3.0  514  2.0  1952  3.0  1552  3.0   821  4.0  ...      0      0   \n",
       "2      2  3.0  500  2.0  2507  4.0   480  2.0   614  2.0  ...      0      1   \n",
       "3      3  1.0  669  1.0  1050  5.0  1435  2.0  2252  5.0  ...      1      1   \n",
       "4      4  2.0  499  1.0  1243  5.0   845  2.0  1666  2.0  ...      1      1   \n",
       "\n",
       "   wr_06  wr_07  wr_08  wr_09  wr_10  wr_11  wr_12  wr_13  \n",
       "0      0      0      1      0      1      0      1      1  \n",
       "1      0      0      0      0      0      0      0      0  \n",
       "2      0      1      1      0      1      0      1      1  \n",
       "3      1      1      1      1      1      1      1      1  \n",
       "4      0      1      1      0      1      1      1      1  \n",
       "\n",
       "[5 rows x 77 columns]"
      ]
     },
     "execution_count": 46,
     "metadata": {},
     "output_type": "execute_result"
    }
   ],
   "source": [
    "test_csv= pd.read_csv('C:/Users/castl/Desktop/2020_job_academy/project/voting_psychology/input/test_x.csv')\n",
    "test_csv.head(5)"
   ]
  },
  {
   "cell_type": "code",
   "execution_count": 47,
   "metadata": {},
   "outputs": [
    {
     "name": "stdout",
     "output_type": "stream",
     "text": [
      "<class 'pandas.core.frame.DataFrame'>\n",
      "RangeIndex: 11383 entries, 0 to 11382\n",
      "Data columns (total 77 columns):\n",
      " #   Column      Non-Null Count  Dtype  \n",
      "---  ------      --------------  -----  \n",
      " 0   index       11383 non-null  int64  \n",
      " 1   QaA         11383 non-null  float64\n",
      " 2   QaE         11383 non-null  int64  \n",
      " 3   QbA         11383 non-null  float64\n",
      " 4   QbE         11383 non-null  int64  \n",
      " 5   QcA         11383 non-null  float64\n",
      " 6   QcE         11383 non-null  int64  \n",
      " 7   QdA         11383 non-null  float64\n",
      " 8   QdE         11383 non-null  int64  \n",
      " 9   QeA         11383 non-null  float64\n",
      " 10  QeE         11383 non-null  int64  \n",
      " 11  QfA         11383 non-null  float64\n",
      " 12  QfE         11383 non-null  int64  \n",
      " 13  QgA         11383 non-null  float64\n",
      " 14  QgE         11383 non-null  int64  \n",
      " 15  QhA         11383 non-null  float64\n",
      " 16  QhE         11383 non-null  int64  \n",
      " 17  QiA         11383 non-null  float64\n",
      " 18  QiE         11383 non-null  int64  \n",
      " 19  QjA         11383 non-null  float64\n",
      " 20  QjE         11383 non-null  int64  \n",
      " 21  QkA         11383 non-null  float64\n",
      " 22  QkE         11383 non-null  int64  \n",
      " 23  QlA         11383 non-null  float64\n",
      " 24  QlE         11383 non-null  int64  \n",
      " 25  QmA         11383 non-null  float64\n",
      " 26  QmE         11383 non-null  int64  \n",
      " 27  QnA         11383 non-null  float64\n",
      " 28  QnE         11383 non-null  int64  \n",
      " 29  QoA         11383 non-null  float64\n",
      " 30  QoE         11383 non-null  int64  \n",
      " 31  QpA         11383 non-null  float64\n",
      " 32  QpE         11383 non-null  int64  \n",
      " 33  QqA         11383 non-null  float64\n",
      " 34  QqE         11383 non-null  int64  \n",
      " 35  QrA         11383 non-null  float64\n",
      " 36  QrE         11383 non-null  int64  \n",
      " 37  QsA         11383 non-null  float64\n",
      " 38  QsE         11383 non-null  int64  \n",
      " 39  QtA         11383 non-null  float64\n",
      " 40  QtE         11383 non-null  int64  \n",
      " 41  age_group   11383 non-null  object \n",
      " 42  education   11383 non-null  int64  \n",
      " 43  engnat      11383 non-null  int64  \n",
      " 44  familysize  11383 non-null  int64  \n",
      " 45  gender      11383 non-null  object \n",
      " 46  hand        11383 non-null  int64  \n",
      " 47  married     11383 non-null  int64  \n",
      " 48  race        11383 non-null  object \n",
      " 49  religion    11383 non-null  object \n",
      " 50  tp01        11383 non-null  int64  \n",
      " 51  tp02        11383 non-null  int64  \n",
      " 52  tp03        11383 non-null  int64  \n",
      " 53  tp04        11383 non-null  int64  \n",
      " 54  tp05        11383 non-null  int64  \n",
      " 55  tp06        11383 non-null  int64  \n",
      " 56  tp07        11383 non-null  int64  \n",
      " 57  tp08        11383 non-null  int64  \n",
      " 58  tp09        11383 non-null  int64  \n",
      " 59  tp10        11383 non-null  int64  \n",
      " 60  urban       11383 non-null  int64  \n",
      " 61  wf_01       11383 non-null  int64  \n",
      " 62  wf_02       11383 non-null  int64  \n",
      " 63  wf_03       11383 non-null  int64  \n",
      " 64  wr_01       11383 non-null  int64  \n",
      " 65  wr_02       11383 non-null  int64  \n",
      " 66  wr_03       11383 non-null  int64  \n",
      " 67  wr_04       11383 non-null  int64  \n",
      " 68  wr_05       11383 non-null  int64  \n",
      " 69  wr_06       11383 non-null  int64  \n",
      " 70  wr_07       11383 non-null  int64  \n",
      " 71  wr_08       11383 non-null  int64  \n",
      " 72  wr_09       11383 non-null  int64  \n",
      " 73  wr_10       11383 non-null  int64  \n",
      " 74  wr_11       11383 non-null  int64  \n",
      " 75  wr_12       11383 non-null  int64  \n",
      " 76  wr_13       11383 non-null  int64  \n",
      "dtypes: float64(20), int64(53), object(4)\n",
      "memory usage: 6.7+ MB\n"
     ]
    }
   ],
   "source": [
    "test_csv.info()"
   ]
  },
  {
   "cell_type": "code",
   "execution_count": 48,
   "metadata": {},
   "outputs": [
    {
     "data": {
      "text/html": [
       "<div>\n",
       "<style scoped>\n",
       "    .dataframe tbody tr th:only-of-type {\n",
       "        vertical-align: middle;\n",
       "    }\n",
       "\n",
       "    .dataframe tbody tr th {\n",
       "        vertical-align: top;\n",
       "    }\n",
       "\n",
       "    .dataframe thead th {\n",
       "        text-align: right;\n",
       "    }\n",
       "</style>\n",
       "<table border=\"1\" class=\"dataframe\">\n",
       "  <thead>\n",
       "    <tr style=\"text-align: right;\">\n",
       "      <th></th>\n",
       "      <th>QaA</th>\n",
       "      <th>QaE</th>\n",
       "      <th>QbA</th>\n",
       "      <th>QbE</th>\n",
       "      <th>QcA</th>\n",
       "      <th>QcE</th>\n",
       "      <th>QdA</th>\n",
       "      <th>QdE</th>\n",
       "      <th>QeA</th>\n",
       "      <th>QeE</th>\n",
       "      <th>...</th>\n",
       "      <th>wr_04</th>\n",
       "      <th>wr_05</th>\n",
       "      <th>wr_06</th>\n",
       "      <th>wr_07</th>\n",
       "      <th>wr_08</th>\n",
       "      <th>wr_09</th>\n",
       "      <th>wr_10</th>\n",
       "      <th>wr_11</th>\n",
       "      <th>wr_12</th>\n",
       "      <th>wr_13</th>\n",
       "    </tr>\n",
       "  </thead>\n",
       "  <tbody>\n",
       "    <tr>\n",
       "      <th>0</th>\n",
       "      <td>3.0</td>\n",
       "      <td>736</td>\n",
       "      <td>2.0</td>\n",
       "      <td>2941</td>\n",
       "      <td>3.0</td>\n",
       "      <td>4621</td>\n",
       "      <td>1.0</td>\n",
       "      <td>4857</td>\n",
       "      <td>2.0</td>\n",
       "      <td>2550</td>\n",
       "      <td>...</td>\n",
       "      <td>0</td>\n",
       "      <td>1</td>\n",
       "      <td>0</td>\n",
       "      <td>0</td>\n",
       "      <td>1</td>\n",
       "      <td>0</td>\n",
       "      <td>1</td>\n",
       "      <td>0</td>\n",
       "      <td>1</td>\n",
       "      <td>1</td>\n",
       "    </tr>\n",
       "    <tr>\n",
       "      <th>1</th>\n",
       "      <td>3.0</td>\n",
       "      <td>514</td>\n",
       "      <td>2.0</td>\n",
       "      <td>1952</td>\n",
       "      <td>3.0</td>\n",
       "      <td>1552</td>\n",
       "      <td>3.0</td>\n",
       "      <td>821</td>\n",
       "      <td>4.0</td>\n",
       "      <td>1150</td>\n",
       "      <td>...</td>\n",
       "      <td>0</td>\n",
       "      <td>0</td>\n",
       "      <td>0</td>\n",
       "      <td>0</td>\n",
       "      <td>0</td>\n",
       "      <td>0</td>\n",
       "      <td>0</td>\n",
       "      <td>0</td>\n",
       "      <td>0</td>\n",
       "      <td>0</td>\n",
       "    </tr>\n",
       "    <tr>\n",
       "      <th>2</th>\n",
       "      <td>3.0</td>\n",
       "      <td>500</td>\n",
       "      <td>2.0</td>\n",
       "      <td>2507</td>\n",
       "      <td>4.0</td>\n",
       "      <td>480</td>\n",
       "      <td>2.0</td>\n",
       "      <td>614</td>\n",
       "      <td>2.0</td>\n",
       "      <td>1326</td>\n",
       "      <td>...</td>\n",
       "      <td>0</td>\n",
       "      <td>1</td>\n",
       "      <td>0</td>\n",
       "      <td>1</td>\n",
       "      <td>1</td>\n",
       "      <td>0</td>\n",
       "      <td>1</td>\n",
       "      <td>0</td>\n",
       "      <td>1</td>\n",
       "      <td>1</td>\n",
       "    </tr>\n",
       "    <tr>\n",
       "      <th>3</th>\n",
       "      <td>1.0</td>\n",
       "      <td>669</td>\n",
       "      <td>1.0</td>\n",
       "      <td>1050</td>\n",
       "      <td>5.0</td>\n",
       "      <td>1435</td>\n",
       "      <td>2.0</td>\n",
       "      <td>2252</td>\n",
       "      <td>5.0</td>\n",
       "      <td>2533</td>\n",
       "      <td>...</td>\n",
       "      <td>1</td>\n",
       "      <td>1</td>\n",
       "      <td>1</td>\n",
       "      <td>1</td>\n",
       "      <td>1</td>\n",
       "      <td>1</td>\n",
       "      <td>1</td>\n",
       "      <td>1</td>\n",
       "      <td>1</td>\n",
       "      <td>1</td>\n",
       "    </tr>\n",
       "    <tr>\n",
       "      <th>4</th>\n",
       "      <td>2.0</td>\n",
       "      <td>499</td>\n",
       "      <td>1.0</td>\n",
       "      <td>1243</td>\n",
       "      <td>5.0</td>\n",
       "      <td>845</td>\n",
       "      <td>2.0</td>\n",
       "      <td>1666</td>\n",
       "      <td>2.0</td>\n",
       "      <td>925</td>\n",
       "      <td>...</td>\n",
       "      <td>1</td>\n",
       "      <td>1</td>\n",
       "      <td>0</td>\n",
       "      <td>1</td>\n",
       "      <td>1</td>\n",
       "      <td>0</td>\n",
       "      <td>1</td>\n",
       "      <td>1</td>\n",
       "      <td>1</td>\n",
       "      <td>1</td>\n",
       "    </tr>\n",
       "    <tr>\n",
       "      <th>...</th>\n",
       "      <td>...</td>\n",
       "      <td>...</td>\n",
       "      <td>...</td>\n",
       "      <td>...</td>\n",
       "      <td>...</td>\n",
       "      <td>...</td>\n",
       "      <td>...</td>\n",
       "      <td>...</td>\n",
       "      <td>...</td>\n",
       "      <td>...</td>\n",
       "      <td>...</td>\n",
       "      <td>...</td>\n",
       "      <td>...</td>\n",
       "      <td>...</td>\n",
       "      <td>...</td>\n",
       "      <td>...</td>\n",
       "      <td>...</td>\n",
       "      <td>...</td>\n",
       "      <td>...</td>\n",
       "      <td>...</td>\n",
       "      <td>...</td>\n",
       "    </tr>\n",
       "    <tr>\n",
       "      <th>11378</th>\n",
       "      <td>5.0</td>\n",
       "      <td>427</td>\n",
       "      <td>5.0</td>\n",
       "      <td>1066</td>\n",
       "      <td>5.0</td>\n",
       "      <td>588</td>\n",
       "      <td>1.0</td>\n",
       "      <td>560</td>\n",
       "      <td>2.0</td>\n",
       "      <td>1110</td>\n",
       "      <td>...</td>\n",
       "      <td>1</td>\n",
       "      <td>1</td>\n",
       "      <td>0</td>\n",
       "      <td>1</td>\n",
       "      <td>1</td>\n",
       "      <td>0</td>\n",
       "      <td>1</td>\n",
       "      <td>0</td>\n",
       "      <td>1</td>\n",
       "      <td>1</td>\n",
       "    </tr>\n",
       "    <tr>\n",
       "      <th>11379</th>\n",
       "      <td>1.0</td>\n",
       "      <td>314</td>\n",
       "      <td>5.0</td>\n",
       "      <td>554</td>\n",
       "      <td>5.0</td>\n",
       "      <td>230</td>\n",
       "      <td>1.0</td>\n",
       "      <td>956</td>\n",
       "      <td>2.0</td>\n",
       "      <td>1173</td>\n",
       "      <td>...</td>\n",
       "      <td>1</td>\n",
       "      <td>1</td>\n",
       "      <td>1</td>\n",
       "      <td>1</td>\n",
       "      <td>1</td>\n",
       "      <td>1</td>\n",
       "      <td>1</td>\n",
       "      <td>1</td>\n",
       "      <td>1</td>\n",
       "      <td>1</td>\n",
       "    </tr>\n",
       "    <tr>\n",
       "      <th>11380</th>\n",
       "      <td>1.0</td>\n",
       "      <td>627</td>\n",
       "      <td>2.0</td>\n",
       "      <td>799</td>\n",
       "      <td>1.0</td>\n",
       "      <td>739</td>\n",
       "      <td>2.0</td>\n",
       "      <td>1123</td>\n",
       "      <td>1.0</td>\n",
       "      <td>829</td>\n",
       "      <td>...</td>\n",
       "      <td>1</td>\n",
       "      <td>1</td>\n",
       "      <td>0</td>\n",
       "      <td>1</td>\n",
       "      <td>1</td>\n",
       "      <td>0</td>\n",
       "      <td>1</td>\n",
       "      <td>0</td>\n",
       "      <td>1</td>\n",
       "      <td>1</td>\n",
       "    </tr>\n",
       "    <tr>\n",
       "      <th>11381</th>\n",
       "      <td>2.0</td>\n",
       "      <td>539</td>\n",
       "      <td>1.0</td>\n",
       "      <td>2090</td>\n",
       "      <td>2.0</td>\n",
       "      <td>4642</td>\n",
       "      <td>1.0</td>\n",
       "      <td>673</td>\n",
       "      <td>2.0</td>\n",
       "      <td>1185</td>\n",
       "      <td>...</td>\n",
       "      <td>1</td>\n",
       "      <td>0</td>\n",
       "      <td>0</td>\n",
       "      <td>1</td>\n",
       "      <td>1</td>\n",
       "      <td>0</td>\n",
       "      <td>1</td>\n",
       "      <td>1</td>\n",
       "      <td>1</td>\n",
       "      <td>0</td>\n",
       "    </tr>\n",
       "    <tr>\n",
       "      <th>11382</th>\n",
       "      <td>2.0</td>\n",
       "      <td>541</td>\n",
       "      <td>4.0</td>\n",
       "      <td>900</td>\n",
       "      <td>5.0</td>\n",
       "      <td>691</td>\n",
       "      <td>2.0</td>\n",
       "      <td>1951</td>\n",
       "      <td>1.0</td>\n",
       "      <td>2317</td>\n",
       "      <td>...</td>\n",
       "      <td>0</td>\n",
       "      <td>0</td>\n",
       "      <td>1</td>\n",
       "      <td>0</td>\n",
       "      <td>1</td>\n",
       "      <td>0</td>\n",
       "      <td>0</td>\n",
       "      <td>1</td>\n",
       "      <td>0</td>\n",
       "      <td>0</td>\n",
       "    </tr>\n",
       "  </tbody>\n",
       "</table>\n",
       "<p>11383 rows × 76 columns</p>\n",
       "</div>"
      ],
      "text/plain": [
       "       QaA  QaE  QbA   QbE  QcA   QcE  QdA   QdE  QeA   QeE  ...  wr_04  \\\n",
       "0      3.0  736  2.0  2941  3.0  4621  1.0  4857  2.0  2550  ...      0   \n",
       "1      3.0  514  2.0  1952  3.0  1552  3.0   821  4.0  1150  ...      0   \n",
       "2      3.0  500  2.0  2507  4.0   480  2.0   614  2.0  1326  ...      0   \n",
       "3      1.0  669  1.0  1050  5.0  1435  2.0  2252  5.0  2533  ...      1   \n",
       "4      2.0  499  1.0  1243  5.0   845  2.0  1666  2.0   925  ...      1   \n",
       "...    ...  ...  ...   ...  ...   ...  ...   ...  ...   ...  ...    ...   \n",
       "11378  5.0  427  5.0  1066  5.0   588  1.0   560  2.0  1110  ...      1   \n",
       "11379  1.0  314  5.0   554  5.0   230  1.0   956  2.0  1173  ...      1   \n",
       "11380  1.0  627  2.0   799  1.0   739  2.0  1123  1.0   829  ...      1   \n",
       "11381  2.0  539  1.0  2090  2.0  4642  1.0   673  2.0  1185  ...      1   \n",
       "11382  2.0  541  4.0   900  5.0   691  2.0  1951  1.0  2317  ...      0   \n",
       "\n",
       "       wr_05  wr_06  wr_07  wr_08  wr_09  wr_10  wr_11  wr_12  wr_13  \n",
       "0          1      0      0      1      0      1      0      1      1  \n",
       "1          0      0      0      0      0      0      0      0      0  \n",
       "2          1      0      1      1      0      1      0      1      1  \n",
       "3          1      1      1      1      1      1      1      1      1  \n",
       "4          1      0      1      1      0      1      1      1      1  \n",
       "...      ...    ...    ...    ...    ...    ...    ...    ...    ...  \n",
       "11378      1      0      1      1      0      1      0      1      1  \n",
       "11379      1      1      1      1      1      1      1      1      1  \n",
       "11380      1      0      1      1      0      1      0      1      1  \n",
       "11381      0      0      1      1      0      1      1      1      0  \n",
       "11382      0      1      0      1      0      0      1      0      0  \n",
       "\n",
       "[11383 rows x 76 columns]"
      ]
     },
     "execution_count": 48,
     "metadata": {},
     "output_type": "execute_result"
    }
   ],
   "source": [
    "data_test=test_csv.drop(['index'],axis=1)\n",
    "data_test"
   ]
  },
  {
   "cell_type": "code",
   "execution_count": 49,
   "metadata": {},
   "outputs": [
    {
     "data": {
      "text/plain": [
       "array([1, 3, 6, 2, 5, 4, 7], dtype=int64)"
      ]
     },
     "execution_count": 49,
     "metadata": {},
     "output_type": "execute_result"
    }
   ],
   "source": [
    "# object를 int로 변환\n",
    "change_age=['10s','20s','30s','40s','50s','60s','+70s']\n",
    "decode_age=[1,2,3,4,5,6,7]\n",
    "\n",
    "for i in range(len(change_age)):\n",
    "    data_test['age_group']=data_test['age_group'].replace(change_age[i],decode_age[i])\n",
    "    \n",
    "data_test['age_group'].unique()"
   ]
  },
  {
   "cell_type": "code",
   "execution_count": 50,
   "metadata": {},
   "outputs": [
    {
     "data": {
      "text/plain": [
       "array([6, 7, 2, 5, 1, 3, 4], dtype=int64)"
      ]
     },
     "execution_count": 50,
     "metadata": {},
     "output_type": "execute_result"
    }
   ],
   "source": [
    "change_race=['Arab','Asian','Black','Indigenous Australian','Native American','White','Other']\n",
    "decode_race=[1,2,3,4,5,6,7]\n",
    "for i in range(len(change_race)):\n",
    "    data_test['race']=data_test['race'].replace(change_race[i],decode_race[i])\n",
    "    \n",
    "data_test['race'].unique()"
   ]
  },
  {
   "cell_type": "code",
   "execution_count": 51,
   "metadata": {},
   "outputs": [
    {
     "data": {
      "text/plain": [
       "array([2, 1], dtype=int64)"
      ]
     },
     "execution_count": 51,
     "metadata": {},
     "output_type": "execute_result"
    }
   ],
   "source": [
    "change_gender=['Female','Male']\n",
    "decode_gender=[1,2]\n",
    "\n",
    "for i in range(len(change_gender)):\n",
    "    data_test['gender']=data_test['gender'].replace(change_gender[i],decode_gender[i])\n",
    "    \n",
    "data_test['gender'].unique()"
   ]
  },
  {
   "cell_type": "code",
   "execution_count": 52,
   "metadata": {},
   "outputs": [
    {
     "data": {
      "text/plain": [
       "array([ 7,  4,  6,  1,  3,  8, 11,  2, 12, 10,  5,  9], dtype=int64)"
      ]
     },
     "execution_count": 52,
     "metadata": {},
     "output_type": "execute_result"
    }
   ],
   "source": [
    "change_religion=['Agnostic','Atheist','Buddhist','Christian_Catholic','Christian_Mormon','Christian_Other','Christian_Protestant','Hindu','Jewish','Muslim','Other','Sikh']\n",
    "decode_religion=[1,2,3,4,5,6,7,8,9,10,11,12]\n",
    "\n",
    "for i in range(len(change_religion)):\n",
    "    data_test['religion']=data_test['religion'].replace(change_religion[i],decode_religion[i])\n",
    "    \n",
    "data_test['religion'].unique()"
   ]
  },
  {
   "cell_type": "code",
   "execution_count": 53,
   "metadata": {},
   "outputs": [
    {
     "name": "stdout",
     "output_type": "stream",
     "text": [
      "<class 'pandas.core.frame.DataFrame'>\n",
      "RangeIndex: 11383 entries, 0 to 11382\n",
      "Data columns (total 76 columns):\n",
      " #   Column      Non-Null Count  Dtype  \n",
      "---  ------      --------------  -----  \n",
      " 0   QaA         11383 non-null  float64\n",
      " 1   QaE         11383 non-null  int64  \n",
      " 2   QbA         11383 non-null  float64\n",
      " 3   QbE         11383 non-null  int64  \n",
      " 4   QcA         11383 non-null  float64\n",
      " 5   QcE         11383 non-null  int64  \n",
      " 6   QdA         11383 non-null  float64\n",
      " 7   QdE         11383 non-null  int64  \n",
      " 8   QeA         11383 non-null  float64\n",
      " 9   QeE         11383 non-null  int64  \n",
      " 10  QfA         11383 non-null  float64\n",
      " 11  QfE         11383 non-null  int64  \n",
      " 12  QgA         11383 non-null  float64\n",
      " 13  QgE         11383 non-null  int64  \n",
      " 14  QhA         11383 non-null  float64\n",
      " 15  QhE         11383 non-null  int64  \n",
      " 16  QiA         11383 non-null  float64\n",
      " 17  QiE         11383 non-null  int64  \n",
      " 18  QjA         11383 non-null  float64\n",
      " 19  QjE         11383 non-null  int64  \n",
      " 20  QkA         11383 non-null  float64\n",
      " 21  QkE         11383 non-null  int64  \n",
      " 22  QlA         11383 non-null  float64\n",
      " 23  QlE         11383 non-null  int64  \n",
      " 24  QmA         11383 non-null  float64\n",
      " 25  QmE         11383 non-null  int64  \n",
      " 26  QnA         11383 non-null  float64\n",
      " 27  QnE         11383 non-null  int64  \n",
      " 28  QoA         11383 non-null  float64\n",
      " 29  QoE         11383 non-null  int64  \n",
      " 30  QpA         11383 non-null  float64\n",
      " 31  QpE         11383 non-null  int64  \n",
      " 32  QqA         11383 non-null  float64\n",
      " 33  QqE         11383 non-null  int64  \n",
      " 34  QrA         11383 non-null  float64\n",
      " 35  QrE         11383 non-null  int64  \n",
      " 36  QsA         11383 non-null  float64\n",
      " 37  QsE         11383 non-null  int64  \n",
      " 38  QtA         11383 non-null  float64\n",
      " 39  QtE         11383 non-null  int64  \n",
      " 40  age_group   11383 non-null  int64  \n",
      " 41  education   11383 non-null  int64  \n",
      " 42  engnat      11383 non-null  int64  \n",
      " 43  familysize  11383 non-null  int64  \n",
      " 44  gender      11383 non-null  int64  \n",
      " 45  hand        11383 non-null  int64  \n",
      " 46  married     11383 non-null  int64  \n",
      " 47  race        11383 non-null  int64  \n",
      " 48  religion    11383 non-null  int64  \n",
      " 49  tp01        11383 non-null  int64  \n",
      " 50  tp02        11383 non-null  int64  \n",
      " 51  tp03        11383 non-null  int64  \n",
      " 52  tp04        11383 non-null  int64  \n",
      " 53  tp05        11383 non-null  int64  \n",
      " 54  tp06        11383 non-null  int64  \n",
      " 55  tp07        11383 non-null  int64  \n",
      " 56  tp08        11383 non-null  int64  \n",
      " 57  tp09        11383 non-null  int64  \n",
      " 58  tp10        11383 non-null  int64  \n",
      " 59  urban       11383 non-null  int64  \n",
      " 60  wf_01       11383 non-null  int64  \n",
      " 61  wf_02       11383 non-null  int64  \n",
      " 62  wf_03       11383 non-null  int64  \n",
      " 63  wr_01       11383 non-null  int64  \n",
      " 64  wr_02       11383 non-null  int64  \n",
      " 65  wr_03       11383 non-null  int64  \n",
      " 66  wr_04       11383 non-null  int64  \n",
      " 67  wr_05       11383 non-null  int64  \n",
      " 68  wr_06       11383 non-null  int64  \n",
      " 69  wr_07       11383 non-null  int64  \n",
      " 70  wr_08       11383 non-null  int64  \n",
      " 71  wr_09       11383 non-null  int64  \n",
      " 72  wr_10       11383 non-null  int64  \n",
      " 73  wr_11       11383 non-null  int64  \n",
      " 74  wr_12       11383 non-null  int64  \n",
      " 75  wr_13       11383 non-null  int64  \n",
      "dtypes: float64(20), int64(56)\n",
      "memory usage: 6.6 MB\n"
     ]
    }
   ],
   "source": [
    "data_test.info()"
   ]
  },
  {
   "cell_type": "code",
   "execution_count": 54,
   "metadata": {},
   "outputs": [
    {
     "name": "stdout",
     "output_type": "stream",
     "text": [
      "QaE\n",
      "QbE\n",
      "QcE\n",
      "QdE\n",
      "QeE\n",
      "QfE\n",
      "QgE\n",
      "QhE\n",
      "QiE\n",
      "QjE\n",
      "QkE\n",
      "QlE\n",
      "QmE\n",
      "QnE\n",
      "QoE\n",
      "QpE\n",
      "QqE\n",
      "QrE\n",
      "QsE\n",
      "QtE\n"
     ]
    }
   ],
   "source": [
    "rd=[]\n",
    "for i in range(1,40,2):\n",
    "    print(data_test.columns[i])\n",
    "    rd.append(data_test.columns[i])"
   ]
  },
  {
   "cell_type": "code",
   "execution_count": 55,
   "metadata": {},
   "outputs": [
    {
     "name": "stdout",
     "output_type": "stream",
     "text": [
      "       QaA  QbA  QcA  QdA  QeA  QfA  QgA  QhA  QiA  QjA  ...  wr_04  wr_05  \\\n",
      "0      3.0  2.0  3.0  1.0  2.0  4.0  5.0  2.0  4.0  2.0  ...      0      1   \n",
      "1      3.0  2.0  3.0  3.0  4.0  1.0  2.0  1.0  5.0  3.0  ...      0      0   \n",
      "2      3.0  2.0  4.0  2.0  2.0  2.0  1.0  1.0  2.0  4.0  ...      0      1   \n",
      "3      1.0  1.0  5.0  2.0  5.0  1.0  1.0  1.0  1.0  1.0  ...      1      1   \n",
      "4      2.0  1.0  5.0  2.0  2.0  2.0  5.0  1.0  2.0  3.0  ...      1      1   \n",
      "...    ...  ...  ...  ...  ...  ...  ...  ...  ...  ...  ...    ...    ...   \n",
      "11378  5.0  5.0  5.0  1.0  2.0  2.0  4.0  1.0  3.0  4.0  ...      1      1   \n",
      "11379  1.0  5.0  5.0  1.0  2.0  1.0  1.0  1.0  1.0  5.0  ...      1      1   \n",
      "11380  1.0  2.0  1.0  2.0  1.0  2.0  2.0  4.0  4.0  2.0  ...      1      1   \n",
      "11381  2.0  1.0  2.0  1.0  2.0  1.0  4.0  1.0  1.0  2.0  ...      1      0   \n",
      "11382  2.0  4.0  5.0  2.0  1.0  4.0  2.0  4.0  4.0  5.0  ...      0      0   \n",
      "\n",
      "       wr_06  wr_07  wr_08  wr_09  wr_10  wr_11  wr_12  wr_13  \n",
      "0          0      0      1      0      1      0      1      1  \n",
      "1          0      0      0      0      0      0      0      0  \n",
      "2          0      1      1      0      1      0      1      1  \n",
      "3          1      1      1      1      1      1      1      1  \n",
      "4          0      1      1      0      1      1      1      1  \n",
      "...      ...    ...    ...    ...    ...    ...    ...    ...  \n",
      "11378      0      1      1      0      1      0      1      1  \n",
      "11379      1      1      1      1      1      1      1      1  \n",
      "11380      0      1      1      0      1      0      1      1  \n",
      "11381      0      1      1      0      1      1      1      0  \n",
      "11382      1      0      1      0      0      1      0      0  \n",
      "\n",
      "[11383 rows x 56 columns]\n",
      "Index(['QaA', 'QbA', 'QcA', 'QdA', 'QeA', 'QfA', 'QgA', 'QhA', 'QiA', 'QjA',\n",
      "       'QkA', 'QlA', 'QmA', 'QnA', 'QoA', 'QpA', 'QqA', 'QrA', 'QsA', 'QtA',\n",
      "       'age_group', 'education', 'engnat', 'familysize', 'gender', 'hand',\n",
      "       'married', 'race', 'religion', 'tp01', 'tp02', 'tp03', 'tp04', 'tp05',\n",
      "       'tp06', 'tp07', 'tp08', 'tp09', 'tp10', 'urban', 'wf_01', 'wf_02',\n",
      "       'wf_03', 'wr_01', 'wr_02', 'wr_03', 'wr_04', 'wr_05', 'wr_06', 'wr_07',\n",
      "       'wr_08', 'wr_09', 'wr_10', 'wr_11', 'wr_12', 'wr_13'],\n",
      "      dtype='object')\n"
     ]
    }
   ],
   "source": [
    "for a in rd:\n",
    "    data_test=data_test.drop(['{}'.format(a)],axis=1)\n",
    "    \n",
    "print(data_test)\n",
    "print(data_test.columns)"
   ]
  },
  {
   "cell_type": "code",
   "execution_count": 56,
   "metadata": {},
   "outputs": [
    {
     "data": {
      "text/plain": [
       "array([[3., 2., 3., ..., 0., 1., 1.],\n",
       "       [3., 2., 3., ..., 0., 0., 0.],\n",
       "       [3., 2., 4., ..., 0., 1., 1.],\n",
       "       ...,\n",
       "       [1., 2., 1., ..., 0., 1., 1.],\n",
       "       [2., 1., 2., ..., 1., 1., 0.],\n",
       "       [2., 4., 5., ..., 1., 0., 0.]])"
      ]
     },
     "execution_count": 56,
     "metadata": {},
     "output_type": "execute_result"
    }
   ],
   "source": [
    "data_test_num=data_test.to_numpy()\n",
    "data_test_num"
   ]
  },
  {
   "cell_type": "code",
   "execution_count": 46,
   "metadata": {},
   "outputs": [
    {
     "name": "stderr",
     "output_type": "stream",
     "text": [
      "C:\\Anaconda3\\lib\\site-packages\\sklearn\\utils\\validation.py:73: DataConversionWarning: A column-vector y was passed when a 1d array was expected. Please change the shape of y to (n_samples, ), for example using ravel().\n",
      "  return f(**kwargs)\n"
     ]
    },
    {
     "data": {
      "text/plain": [
       "SVC(C=10, gamma=0.1, random_state=0)"
      ]
     },
     "execution_count": 46,
     "metadata": {},
     "output_type": "execute_result"
    }
   ],
   "source": [
    "svm_real = SVC(kernel='rbf',C=10,gamma=0.1,random_state=0)\n",
    "svm_real.fit(data_num, target_num)"
   ]
  },
  {
   "cell_type": "code",
   "execution_count": 79,
   "metadata": {},
   "outputs": [
    {
     "name": "stdout",
     "output_type": "stream",
     "text": [
      "학습용 데이터로 측정한 정확도 = 1.00\n"
     ]
    }
   ],
   "source": [
    "print('학습용 데이터로 측정한 정확도 = %.2f' % svm_real.score(data_num, target_num))"
   ]
  },
  {
   "cell_type": "code",
   "execution_count": 47,
   "metadata": {},
   "outputs": [
    {
     "data": {
      "text/plain": [
       "array([2, 2, 2, ..., 1, 1, 2], dtype=int64)"
      ]
     },
     "execution_count": 47,
     "metadata": {},
     "output_type": "execute_result"
    }
   ],
   "source": [
    "test_pred=svm_real.predict(data_test_num)\n",
    "test_pred"
   ]
  },
  {
   "cell_type": "code",
   "execution_count": 61,
   "metadata": {},
   "outputs": [
    {
     "data": {
      "text/html": [
       "<div>\n",
       "<style scoped>\n",
       "    .dataframe tbody tr th:only-of-type {\n",
       "        vertical-align: middle;\n",
       "    }\n",
       "\n",
       "    .dataframe tbody tr th {\n",
       "        vertical-align: top;\n",
       "    }\n",
       "\n",
       "    .dataframe thead th {\n",
       "        text-align: right;\n",
       "    }\n",
       "</style>\n",
       "<table border=\"1\" class=\"dataframe\">\n",
       "  <thead>\n",
       "    <tr style=\"text-align: right;\">\n",
       "      <th></th>\n",
       "      <th>voted</th>\n",
       "    </tr>\n",
       "    <tr>\n",
       "      <th>index</th>\n",
       "      <th></th>\n",
       "    </tr>\n",
       "  </thead>\n",
       "  <tbody>\n",
       "    <tr>\n",
       "      <th>0</th>\n",
       "      <td>2</td>\n",
       "    </tr>\n",
       "    <tr>\n",
       "      <th>1</th>\n",
       "      <td>2</td>\n",
       "    </tr>\n",
       "    <tr>\n",
       "      <th>2</th>\n",
       "      <td>2</td>\n",
       "    </tr>\n",
       "    <tr>\n",
       "      <th>3</th>\n",
       "      <td>2</td>\n",
       "    </tr>\n",
       "    <tr>\n",
       "      <th>4</th>\n",
       "      <td>2</td>\n",
       "    </tr>\n",
       "    <tr>\n",
       "      <th>...</th>\n",
       "      <td>...</td>\n",
       "    </tr>\n",
       "    <tr>\n",
       "      <th>11378</th>\n",
       "      <td>2</td>\n",
       "    </tr>\n",
       "    <tr>\n",
       "      <th>11379</th>\n",
       "      <td>2</td>\n",
       "    </tr>\n",
       "    <tr>\n",
       "      <th>11380</th>\n",
       "      <td>1</td>\n",
       "    </tr>\n",
       "    <tr>\n",
       "      <th>11381</th>\n",
       "      <td>1</td>\n",
       "    </tr>\n",
       "    <tr>\n",
       "      <th>11382</th>\n",
       "      <td>2</td>\n",
       "    </tr>\n",
       "  </tbody>\n",
       "</table>\n",
       "<p>11383 rows × 1 columns</p>\n",
       "</div>"
      ],
      "text/plain": [
       "       voted\n",
       "index       \n",
       "0          2\n",
       "1          2\n",
       "2          2\n",
       "3          2\n",
       "4          2\n",
       "...      ...\n",
       "11378      2\n",
       "11379      2\n",
       "11380      1\n",
       "11381      1\n",
       "11382      2\n",
       "\n",
       "[11383 rows x 1 columns]"
      ]
     },
     "execution_count": 61,
     "metadata": {},
     "output_type": "execute_result"
    }
   ],
   "source": [
    "test_pred_df=pd.DataFrame(test_pred)\n",
    "test_pred_df.columns=['voted']\n",
    "test_pred_df['index']=test_pred_df.index\n",
    "test_pred_df=test_pred_df.set_index('index')\n",
    "test_pred_df"
   ]
  },
  {
   "cell_type": "code",
   "execution_count": 62,
   "metadata": {},
   "outputs": [],
   "source": [
    "test_pred_df.to_csv('C:/Users/castl/Desktop/2020_job_academy/project/voting_psychology/test_prediction.csv')"
   ]
  },
  {
   "cell_type": "code",
   "execution_count": 61,
   "metadata": {},
   "outputs": [],
   "source": [
    "test_pred3=svm3.predict(data_test_num)\n",
    "\n",
    "test_pred3_df=pd.DataFrame(test_pred3)\n",
    "test_pred3_df.columns=['voted']\n",
    "test_pred3_df['index']=test_pred3_df.index\n",
    "test_pred3_df=test_pred3_df.set_index('index')\n",
    "\n",
    "test_pred3_df.to_csv('C:/Users/castl/Desktop/2020_job_academy/project/voting_psychology/test_prediction_svm3.csv')"
   ]
  },
  {
   "cell_type": "code",
   "execution_count": 62,
   "metadata": {},
   "outputs": [],
   "source": [
    "test_pred4=svm4.predict(data_test_num)\n",
    "\n",
    "test_pred4_df=pd.DataFrame(test_pred4)\n",
    "test_pred4_df.columns=['voted']\n",
    "test_pred4_df['index']=test_pred4_df.index\n",
    "test_pred4_df=test_pred4_df.set_index('index')\n",
    "\n",
    "test_pred4_df.to_csv('C:/Users/castl/Desktop/2020_job_academy/project/voting_psychology/test_prediction_svm4.csv')"
   ]
  },
  {
   "attachments": {
    "image.png": {
     "image/png": "[encoded data removed]"
    }
   },
   "cell_type": "markdown",
   "metadata": {},
   "source": [
    "# 각 svm훈련에 대한 test 결과\n",
    "\n",
    "![image.png](attachment:image.png)"
   ]
  },
  {
   "cell_type": "code",
   "execution_count": null,
   "metadata": {},
   "outputs": [],
   "source": []
  }
 ],
 "metadata": {
  "kernelspec": {
   "display_name": "Python 3",
   "language": "python",
   "name": "python3"
  },
  "language_info": {
   "codemirror_mode": {
    "name": "ipython",
    "version": 3
   },
   "file_extension": ".py",
   "mimetype": "text/x-python",
   "name": "python",
   "nbconvert_exporter": "python",
   "pygments_lexer": "ipython3",
   "version": "3.7.7"
  }
 },
 "nbformat": 4,
 "nbformat_minor": 4
}
